{
 "cells": [
  {
   "cell_type": "markdown",
   "id": "a2024775-4870-40af-951e-cfe9d035a0db",
   "metadata": {},
   "source": [
    "# Q14) string1='ola ola ola'\r\n",
    "# Number of ola  = 3"
   ]
  },
  {
   "cell_type": "code",
   "execution_count": 2,
   "id": "b5126f49-b742-4bcf-b21a-e8446af24079",
   "metadata": {},
   "outputs": [
    {
     "name": "stdout",
     "output_type": "stream",
     "text": [
      "3\n"
     ]
    }
   ],
   "source": [
    "string1='ola ola ola'\n",
    "count=0\n",
    "for i in range(len(string1)):\n",
    "    if string1[i:i+3]=='ola':\n",
    "        count+=1\n",
    "\n",
    "print(count)"
   ]
  },
  {
   "cell_type": "markdown",
   "id": "127955f8-56ec-4906-9486-0be1ad832166",
   "metadata": {},
   "source": [
    "# Q15) string1='hello hello hello how how how how are you'\n",
    "# What is the most repeated word : how\n"
   ]
  },
  {
   "cell_type": "code",
   "execution_count": null,
   "id": "84886391-379f-4470-a95f-26eb27a47709",
   "metadata": {},
   "outputs": [],
   "source": [
    "\n"
   ]
  },
  {
   "cell_type": "markdown",
   "id": "c9258dc0-066e-489f-8f66-12851f2338e5",
   "metadata": {},
   "source": [
    "# Q16) string1='hellooooo how aree u'\n",
    "# what is the maximum length of word: helloooo\n",
    "# what is the minimum length of word: u"
   ]
  },
  {
   "cell_type": "code",
   "execution_count": null,
   "id": "b43aa61b-eeb1-4558-b5d6-335c2880e461",
   "metadata": {},
   "outputs": [],
   "source": []
  },
  {
   "cell_type": "markdown",
   "id": "5284b91b-e631-443e-a7fb-77b0da3bba19",
   "metadata": {},
   "source": [
    "# Q17) with out using sorted then sort the letters"
   ]
  },
  {
   "cell_type": "code",
   "execution_count": null,
   "id": "302462ea-e7fe-4993-9d5e-96f287e59097",
   "metadata": {},
   "outputs": [],
   "source": []
  }
 ],
 "metadata": {
  "kernelspec": {
   "display_name": "Python 3 (ipykernel)",
   "language": "python",
   "name": "python3"
  },
  "language_info": {
   "codemirror_mode": {
    "name": "ipython",
    "version": 3
   },
   "file_extension": ".py",
   "mimetype": "text/x-python",
   "name": "python",
   "nbconvert_exporter": "python",
   "pygments_lexer": "ipython3",
   "version": "3.11.7"
  }
 },
 "nbformat": 4,
 "nbformat_minor": 5
}
