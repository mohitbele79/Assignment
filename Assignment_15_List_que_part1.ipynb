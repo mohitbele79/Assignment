{
 "cells": [
  {
   "cell_type": "code",
   "execution_count": null,
   "id": "15055c52-2db1-42e0-a10a-ebf686b52d18",
   "metadata": {},
   "outputs": [],
   "source": [
    "# Q2)l1=['Hyd','Mumbai','Chennai','blr']\n",
    "#  ans=['Mumbai','Chennai']  \n",
    "#  we want lements which are len of element >4\n",
    "\n",
    "# Q3)l1=['Hyd','Mum#bai','Chen#nai','blr']\n",
    "#  ans=['Mum#bai'',Chen#nai']  \n",
    "#  we want lements which are having '#'\n",
    "\n",
    "# Q4)l1=['hyd','mumbai','chennai','blr']\n",
    "#  ans= ['Hyd','Mumbai','Chennai','Blr']\n",
    "#  we want lements which are len of element >4\n",
    "\n",
    "# Q5)l1=['Hyd','Mumbai','chennai','blr']\n",
    "#  ans= ['Hyd','Mumbai']\n",
    "#  we want lements which are having first letter capital\n",
    "\n",
    "# Q6)l1=['Hyd','Mum#bai','Chen#nai','blr']\n",
    "#  ans_#=['Mum#bai'',Chen#nai']  \n",
    "#  ans_without_#=['Hyd'','blr']\n",
    "#  we want lements which are having '#'\n",
    "\n",
    "# Q7) ask the user get 5 numbers randomly\n",
    "#     even_list and odd_list\n",
    "#     even numbers should append at even_list\n",
    "#     odd number should append at odd_list\n",
    "\n",
    "# Q8) str='hello hai how are you'\n",
    "# Maximum len of word using split and max method\n",
    "# sum of all the indexes of the maximum len of word using append\n",
    "\n",
    "# Q9) str1='virat.kohli@rcb.com, Rohit.sharma@mi.co, KL.Rahul@lucknow.com'\n",
    "# Firstname=[]  second name=[]  cname =[]\n",
    "# append first name should be in first name list\n",
    "#        second name shoul be in second name list\n",
    "#        thirs name will be in thirs name list\n",
    "\n",
    "# 10 )\n",
    "#  You have two lists\n",
    "# qns=['What is capital of India',\n",
    "       'Who is PM of india',\n",
    "        'Who is ICT ODI captian']\n",
    "# ans = ['Delhi','Modi','Rohit']\n",
    "\n",
    "# For i in qns:\n",
    "#     print(i)\n",
    "#     ans= delhi\n",
    "#      index should match\n",
    "#      delhi  modi\n",
    "#      marks= marks+1\n",
    "# print the total marks\n"
   ]
  },
  {
   "cell_type": "code",
   "execution_count": 6,
   "id": "ee616a79-40ac-4383-be47-a3e913aa8a81",
   "metadata": {},
   "outputs": [
    {
     "name": "stdout",
     "output_type": "stream",
     "text": [
      "Mumbai\n",
      "Chennai\n",
      "['Mumbai', 'Chennai']\n"
     ]
    }
   ],
   "source": [
    "# Q2)l1=['Hyd','Mumbai','Chennai','blr']\n",
    "#  ans=['Mumbai','Chennai']  \n",
    "#  we want lements which are len of element >4\n",
    "\n",
    "l1=['Hyd','Mumbai','Chennai','blr']\n",
    "ans=[]\n",
    "for i in range(len(l1)):\n",
    "    if len(l1[i])>4:\n",
    "        ans.append(l1[i])\n",
    "        print(l1[i])\n",
    "\n",
    "print(ans)"
   ]
  },
  {
   "cell_type": "code",
   "execution_count": 7,
   "id": "2b5d8e64-3180-40fb-a317-d26e582c0c88",
   "metadata": {},
   "outputs": [
    {
     "name": "stdout",
     "output_type": "stream",
     "text": [
      "Mum#bai\n",
      "Chen#nai\n",
      "['Mum#bai', 'Chen#nai']\n"
     ]
    }
   ],
   "source": [
    "# Q3)l1=['Hyd','Mum#bai','Chen#nai','blr']\n",
    "#  ans=['Mum#bai'',Chen#nai']  \n",
    "#  we want lements which are having '#'\n",
    "l1=['Hyd','Mum#bai','Chen#nai','blr']\n",
    "ans=[]\n",
    "for i in l1:\n",
    "    if '#'in i:\n",
    "        ans.append(i)\n",
    "        print(i)\n",
    "\n",
    "print(ans)"
   ]
  },
  {
   "cell_type": "code",
   "execution_count": 9,
   "id": "be40e8f1-5a51-4cf0-bdfb-ff5d4acdb10f",
   "metadata": {},
   "outputs": [
    {
     "data": {
      "text/plain": [
       "['Hyd', 'Mumbai', 'Chennai', 'Blr']"
      ]
     },
     "execution_count": 9,
     "metadata": {},
     "output_type": "execute_result"
    }
   ],
   "source": [
    "# Q4)l1=['hyd','mumbai','chennai','blr']\n",
    "#  ans= ['Hyd','Mumbai','Chennai','Blr']\n",
    "#  we want lements which are len of element >4\n",
    "l1=['hyd','mumbai','chennai','blr']\n",
    "a=[]\n",
    "for i in l1:\n",
    "    a.append(i.capitalize())\n",
    "\n",
    "a"
   ]
  },
  {
   "cell_type": "code",
   "execution_count": 10,
   "id": "2cfd06fe-b346-4206-baa2-59b5041a0990",
   "metadata": {},
   "outputs": [
    {
     "data": {
      "text/plain": [
       "['Mumbai', 'Chennai']"
      ]
     },
     "execution_count": 10,
     "metadata": {},
     "output_type": "execute_result"
    }
   ],
   "source": [
    "# Q5)l1=['Hyd','Mumbai','chennai','blr']\n",
    "#  ans= ['Hyd','Mumbai']\n",
    "#  we want lements which are having first letter capital\n",
    "l1=['hyd','mumbai','chennai','blr']\n",
    "a=[]\n",
    "for i in l1:\n",
    "    if len(i)>4:\n",
    "        a.append(i.capitalize())\n",
    "\n",
    "a"
   ]
  },
  {
   "cell_type": "code",
   "execution_count": 11,
   "id": "467ab9b4-8b66-4091-a036-86af1258efc0",
   "metadata": {},
   "outputs": [
    {
     "name": "stdout",
     "output_type": "stream",
     "text": [
      "['Mum#bai', 'Chen#nai']\n",
      "['Hyd', 'blr']\n"
     ]
    }
   ],
   "source": [
    "# Q6)l1=['Hyd','Mum#bai','Chen#nai','blr']\n",
    "#  ans_#=['Mum#bai'',Chen#nai']  \n",
    "#  ans_without_#=['Hyd'','blr']\n",
    "#  we want lements which are having '#'\n",
    "l1=['Hyd','Mum#bai','Chen#nai','blr']\n",
    "ans_=[]\n",
    "ans_without=[]\n",
    "for i in l1:\n",
    "    if '#' in i:\n",
    "        ans_.append(i)\n",
    "    else:\n",
    "        ans_without.append(i)\n",
    "\n",
    "print(ans_)\n",
    "print(ans_without)"
   ]
  },
  {
   "cell_type": "code",
   "execution_count": 12,
   "id": "bd899f77-69ff-4ed2-8ee3-608c9504f050",
   "metadata": {},
   "outputs": [
    {
     "name": "stdin",
     "output_type": "stream",
     "text": [
      "Enter the Number :  5\n",
      "Enter the Number :  2\n",
      "Enter the Number :  6\n",
      "Enter the Number :  1\n",
      "Enter the Number :  7\n"
     ]
    },
    {
     "name": "stdout",
     "output_type": "stream",
     "text": [
      "[2, 6]\n",
      "[5, 1, 7]\n"
     ]
    }
   ],
   "source": [
    "# Q7) ask the user get 5 numbers randomly\n",
    "#     even_list and odd_list\n",
    "#     even numbers should append at even_list\n",
    "#     odd number should append at odd_list\n",
    "even_list=[]\n",
    "odd_list=[]\n",
    "for i in range(5):\n",
    "    num=eval(input('Enter the Number : '))\n",
    "    if num%2==0:\n",
    "        even_list.append(num)\n",
    "    else:\n",
    "        odd_list.append(num)\n",
    "\n",
    "print(even_list)\n",
    "print(odd_list)"
   ]
  },
  {
   "cell_type": "code",
   "execution_count": 17,
   "id": "db291347-1962-4c9b-b674-14c8d51c499e",
   "metadata": {},
   "outputs": [
    {
     "name": "stdout",
     "output_type": "stream",
     "text": [
      "hello\n"
     ]
    }
   ],
   "source": [
    "# Q8) str='hello hai how are you'\n",
    "# Maximum len of word using split and max method\n",
    "# sum of all the indexes of the maximum len of word using append\n",
    "str='hello hai how are you'\n",
    "l=str.split()\n",
    "le=[]\n",
    "for i in l:\n",
    "    le.append(len(i))\n",
    "    \n",
    "v = max(le)  \n",
    "\n",
    "for i in l:\n",
    "    if v==len(i):\n",
    "            print(i)\n"
   ]
  },
  {
   "cell_type": "code",
   "execution_count": 6,
   "id": "bfc562eb-0530-4ded-81be-f93b89b71a89",
   "metadata": {},
   "outputs": [
    {
     "name": "stdout",
     "output_type": "stream",
     "text": [
      "['virat', 'Rohit', 'KL.Ra']\n",
      "['kohli', 'sharm', 'ul@lu']\n",
      "['rcb', '@mi', 'kno']\n"
     ]
    }
   ],
   "source": [
    "# Q9) str1='virat.kohli@rcb.com, Rohit.sharma@mi.co, KL.Rahul@lucknow.com'\n",
    "# Firstname=[]  second name=[]  cname =[]\n",
    "# append first name should be in first name list\n",
    "#        second name shoul be in second name list\n",
    "#        thirs name will be in thirs name list\n",
    "str1='virat.kohli@rcb.com, Rohit.sharma@mi.co, KL.Rahul@lucknow.com'\n",
    "nel=str1.split()\n",
    "Firstname=[]\n",
    "second_name=[]\n",
    "cname=[]\n",
    "\n",
    "\n",
    "for i in nel:\n",
    "    d=str1.index('.')\n",
    "    Firstname.append(i[:d])\n",
    "    e=str1.index('@')\n",
    "    second_name.append(i[d+1:e])\n",
    "    f=str1.index('.',d+1)\n",
    "    cname.append(i[e+1:f])\n",
    "\n",
    "print(Firstname)\n",
    "print(second_name)\n",
    "print(cname)"
   ]
  },
  {
   "cell_type": "code",
   "execution_count": 2,
   "id": "78b3a0fe-7fb1-43c1-8da9-020ec8dac61b",
   "metadata": {},
   "outputs": [
    {
     "data": {
      "text/plain": [
       "['virat.kohli@rcb.com,', 'Rohit.sharma@mi.co,', 'KL.Rahul@lucknow.com']"
      ]
     },
     "execution_count": 2,
     "metadata": {},
     "output_type": "execute_result"
    }
   ],
   "source": [
    "nel"
   ]
  },
  {
   "cell_type": "code",
   "execution_count": 18,
   "id": "496a97ba-44e9-4bdc-9f1c-aa3a24008e75",
   "metadata": {},
   "outputs": [
    {
     "name": "stdout",
     "output_type": "stream",
     "text": [
      "What is capital of India\n"
     ]
    },
    {
     "name": "stdin",
     "output_type": "stream",
     "text": [
      "Enter the Answer :  delhi\n"
     ]
    },
    {
     "name": "stdout",
     "output_type": "stream",
     "text": [
      "Who is PM of india\n"
     ]
    },
    {
     "name": "stdin",
     "output_type": "stream",
     "text": [
      "Enter the Answer :  modi\n"
     ]
    },
    {
     "name": "stdout",
     "output_type": "stream",
     "text": [
      "Who is ICT ODI captian\n"
     ]
    },
    {
     "name": "stdin",
     "output_type": "stream",
     "text": [
      "Enter the Answer :  rohit\n"
     ]
    },
    {
     "name": "stdout",
     "output_type": "stream",
     "text": [
      "Total point will be : 3\n"
     ]
    }
   ],
   "source": [
    "#10 )\n",
    "#  You have two lists\n",
    "# qns=['What is capital of India',\n",
    "#       'Who is PM of india',\n",
    "#        'Who is ICT ODI captian']\n",
    "# ans = ['Delhi','Modi','Rohit']\n",
    "\n",
    "# For i in qns:\n",
    "#     print(i)\n",
    "#     ans= delhi\n",
    "#      index should match\n",
    "#      delhi  modi\n",
    "#      marks= marks+1\n",
    "# print the total marks\n",
    "qns=['What is capital of India',\n",
    "       'Who is PM of india',\n",
    "        'Who is ICT ODI captian']\n",
    "ans = ['Delhi','Modi','Rohit']\n",
    "marks=0\n",
    "for i in range(len(qns)):\n",
    "    print(qns[i])\n",
    "    user_ans=input('Enter the Answer : ')\n",
    "    if user_ans.lower() == ans[i].lower():\n",
    "        marks+=1\n",
    "\n",
    "\n",
    "print(f'Total point will be : {marks}')"
   ]
  },
  {
   "cell_type": "code",
   "execution_count": null,
   "id": "e9a7b91a-0edb-48b9-8647-6b6bf1bd97dc",
   "metadata": {},
   "outputs": [],
   "source": []
  }
 ],
 "metadata": {
  "kernelspec": {
   "display_name": "Python 3 (ipykernel)",
   "language": "python",
   "name": "python3"
  },
  "language_info": {
   "codemirror_mode": {
    "name": "ipython",
    "version": 3
   },
   "file_extension": ".py",
   "mimetype": "text/x-python",
   "name": "python",
   "nbconvert_exporter": "python",
   "pygments_lexer": "ipython3",
   "version": "3.11.7"
  }
 },
 "nbformat": 4,
 "nbformat_minor": 5
}
