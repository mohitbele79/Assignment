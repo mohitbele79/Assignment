{
 "cells": [
  {
   "cell_type": "code",
   "execution_count": null,
   "id": "87ffda3a-122c-4d24-b50e-066353863585",
   "metadata": {},
   "outputs": [],
   "source": [
    "#Q1) WAP ask the user count how many 'a' are present in a given string\n",
    "# str1='hai naresh how are you'\n",
    "\n",
    "# Idea: counter wrapper\n",
    "# step-1: count=0\n",
    "# step-2: using for loop in operator iterate through  given string\n",
    "# step-3: apply the if condition, whenever the letter equal to 'a'\n",
    "# step-4: count=count+1\n",
    "\n",
    "\n",
    "# Q2) WAP ask the find how many vowels are there in a given string\n",
    "# str1='hai naresh how are you'\n",
    "# ans=9\n",
    "\n",
    "\n",
    "# Q3) Home work qn\n",
    "# str1='hai naresh how are you'\n",
    "# Repetaed vowels are there\n",
    "# We dont want repetaed vowels\n",
    "# Count the vowels avoid the repeatition: Unique vowels\n",
    "\n",
    "# Q4) print each letter using for loop range\n",
    "\n",
    "\n",
    "# Q5) wap ask the user iterate using a string\n",
    "# string='welcome'\n",
    "# print the postive index of w is 0\n",
    "#       the positive index of e is 1\n",
    "#       the positive index of l is 1\n",
    "\n",
    "# Q6) wap ask the user iterate using a string\n",
    "# string='welcome'\n",
    "# print the negative index of w is -7\n",
    "#       the negative index of e is -6\n",
    "#       the negative index of l is -5\n",
    "# the positive index is 0 and the negtaive index -7 for w\n",
    "\n",
    "\n",
    "# Q7) wap ask the user iterate using a string\n",
    "# string='welcome'\n",
    "# # the positive index is 0 and the negtaive index -7 for w\n",
    "\n",
    "\n",
    "#Q8) wap ask the user get the index of each 'a' in a given string\n",
    "# s='hai how are you i am good'\n",
    "# a=1  8  18\n",
    "\n",
    "#Q9) wap ask the user to get count of number of 'a' in a given string\n",
    "#     using for-range\n",
    "\n",
    "#Q10) wap ask the user get the sum of all index numbers of 'a'\n",
    "# 1+8+18= 27\n",
    "\n",
    "#Q11) wap ask the user get the vowels from a given string using for-range\n",
    "\n",
    "\n",
    "#Q12) wap ask the user get the vowels from a given string using for-range\n",
    "\n",
    "\n",
    "#Q13)updated wap ask the user get the vowels from a given string using for-range\n"
   ]
  },
  {
   "cell_type": "code",
   "execution_count": null,
   "id": "ae71fd66-eb6b-4ea4-b3c4-90c01785929f",
   "metadata": {},
   "outputs": [],
   "source": []
  },
  {
   "cell_type": "code",
   "execution_count": 1,
   "id": "202aa4b4-20ee-4c47-94ac-be6f1e857762",
   "metadata": {},
   "outputs": [
    {
     "name": "stdout",
     "output_type": "stream",
     "text": [
      "3\n"
     ]
    }
   ],
   "source": [
    "#Q1) WAP ask the user count how many 'a' are present in a given string\n",
    "# str1='hai naresh how are you'\n",
    "\n",
    "# Idea: counter wrapper\n",
    "# step-1: count=0\n",
    "# step-2: using for loop in operator iterate through  given string\n",
    "# step-3: apply the if condition, whenever the letter equal to 'a'\n",
    "# step-4: count=count+1\n",
    "\n",
    "str1='hai naresh how are you'\n",
    "count=0\n",
    "for i in str1:\n",
    "    if i=='a':\n",
    "        count+=1\n",
    "\n",
    "\n",
    "print(count)"
   ]
  },
  {
   "cell_type": "code",
   "execution_count": 3,
   "id": "8ef1d969-251e-48e3-ba31-ef7bd8c61e7c",
   "metadata": {},
   "outputs": [
    {
     "name": "stdout",
     "output_type": "stream",
     "text": [
      "9\n"
     ]
    }
   ],
   "source": [
    "# Q2) WAP ask the find how many vowels are there in a given string\n",
    "# str1='hai naresh how are you'\n",
    "# ans=9\n",
    "\n",
    "str1='hai naresh how are you'\n",
    "count = 0\n",
    "for i in str1:\n",
    "    if i in 'aeiou':\n",
    "        count+=1\n",
    "\n",
    "print(count)"
   ]
  },
  {
   "cell_type": "code",
   "execution_count": 6,
   "id": "ba8ddd55-3550-4120-9f0d-825dad0a45b1",
   "metadata": {},
   "outputs": [
    {
     "name": "stdout",
     "output_type": "stream",
     "text": [
      "5\n",
      "aieou\n"
     ]
    }
   ],
   "source": [
    "# Q3) Home work qn\n",
    "# str1='hai naresh how are you'\n",
    "# Repetaed vowels are there\n",
    "# We dont want repetaed vowels\n",
    "# Count the vowels avoid the repeatition: Unique vowels\n",
    "\n",
    "str1='hai naresh how are you'\n",
    "str2=''\n",
    "count=0\n",
    "for i in str1:\n",
    "    if i not in str2:\n",
    "        if i in 'aeiou':\n",
    "            count+=1\n",
    "            str2=str2+i\n",
    "\n",
    "print(count)\n",
    "print(str2)            \n",
    "    "
   ]
  },
  {
   "cell_type": "code",
   "execution_count": 8,
   "id": "da2ee329-a072-4131-8f2f-b7b387d5d6c0",
   "metadata": {},
   "outputs": [
    {
     "name": "stdout",
     "output_type": "stream",
     "text": [
      "h\n",
      "a\n",
      "i\n",
      " \n",
      "n\n",
      "a\n",
      "r\n",
      "e\n",
      "s\n",
      "h\n",
      " \n",
      "h\n",
      "o\n",
      "w\n",
      " \n",
      "a\n",
      "r\n",
      "e\n",
      " \n",
      "y\n",
      "o\n",
      "u\n"
     ]
    }
   ],
   "source": [
    "# Q4) print each letter using for loop range\n",
    "str1='hai naresh how are you'\n",
    "for i in range(len(str1)):\n",
    "    print(str1[i])"
   ]
  },
  {
   "cell_type": "code",
   "execution_count": 10,
   "id": "4bf53ab0-8fbf-45e4-b3a8-054a6aabc9d6",
   "metadata": {},
   "outputs": [
    {
     "name": "stdout",
     "output_type": "stream",
     "text": [
      " The positive index of w is 0\n",
      " The positive index of e is 1\n",
      " The positive index of l is 2\n",
      " The positive index of c is 3\n",
      " The positive index of o is 4\n",
      " The positive index of m is 5\n",
      " The positive index of e is 6\n"
     ]
    }
   ],
   "source": [
    "# Q5) wap ask the user iterate using a string\n",
    "# string='welcome'\n",
    "# print the postive index of w is 0\n",
    "#       the positive index of e is 1\n",
    "#       the positive index of l is 1\n",
    "string='welcome'\n",
    "for i in range(len(string)):\n",
    "    print(f' The positive index of {string[i]} is {i}')"
   ]
  },
  {
   "cell_type": "code",
   "execution_count": 13,
   "id": "3ecd40af-17af-4dd9-a76a-adc910473cfc",
   "metadata": {},
   "outputs": [
    {
     "name": "stdout",
     "output_type": "stream",
     "text": [
      "The negative index of w is -7\n",
      "The negative index of e is -6\n",
      "The negative index of l is -5\n",
      "The negative index of c is -4\n",
      "The negative index of o is -3\n",
      "The negative index of m is -2\n",
      "The negative index of e is -1\n",
      "The positive index of 0 and the negative index -7 for w\n",
      "The positive index of 1 and the negative index -6 for e\n",
      "The positive index of 2 and the negative index -5 for l\n",
      "The positive index of 3 and the negative index -4 for c\n",
      "The positive index of 4 and the negative index -3 for o\n",
      "The positive index of 5 and the negative index -2 for m\n",
      "The positive index of 6 and the negative index -1 for e\n"
     ]
    }
   ],
   "source": [
    "# Q6) wap ask the user iterate using a string\n",
    "# string='welcome'\n",
    "# print the negative index of w is -7\n",
    "#       the negative index of e is -6\n",
    "#       the negative index of l is -5\n",
    "# the positive index is 0 and the negtaive index -7 for w\n",
    "\n",
    "\n",
    "string='welcome'\n",
    "for i in range(len(string)):\n",
    "    print(f'The negative index of {string[i]} is {i-len(string)}')\n",
    "\n",
    "for i in range(len(string)):\n",
    "    print(f'The positive index of {i} and the negative index {i-len(string)} for {string[i]}')"
   ]
  },
  {
   "cell_type": "code",
   "execution_count": 15,
   "id": "b9b6e67b-a526-4cbb-bf3a-e75326545fe4",
   "metadata": {},
   "outputs": [
    {
     "name": "stdout",
     "output_type": "stream",
     "text": [
      "The positive index of 0 and the negative index -7 for w\n",
      "The positive index of 1 and the negative index -6 for e\n",
      "The positive index of 2 and the negative index -5 for l\n",
      "The positive index of 3 and the negative index -4 for c\n",
      "The positive index of 4 and the negative index -3 for o\n",
      "The positive index of 5 and the negative index -2 for m\n",
      "The positive index of 6 and the negative index -1 for e\n"
     ]
    }
   ],
   "source": [
    "# Q7) wap ask the user iterate using a string\n",
    "# string='welcome'\n",
    "# # the positive index is 0 and the negtaive index -7 for w\n",
    "string='welcome'\n",
    "for i in range(len(string)):\n",
    "    print(f'The positive index of {i} and the negative index {i-len(string)} for {string[i]}')"
   ]
  },
  {
   "cell_type": "code",
   "execution_count": 16,
   "id": "040138ab-5a96-4de4-8487-a9903ca9e8f6",
   "metadata": {},
   "outputs": [
    {
     "name": "stdout",
     "output_type": "stream",
     "text": [
      "1 8 18\n"
     ]
    }
   ],
   "source": [
    "#Q8) wap ask the user get the index of each 'a' in a given string\n",
    "# s='hai how are you i am good'\n",
    "# a=1  8  18\n",
    "\n",
    "s='hai how are you i am good'\n",
    "b=s.index('a')\n",
    "c=s.index('a',b+1)\n",
    "d=s.index('a',c+1)\n",
    "print(b ,c , d)"
   ]
  },
  {
   "cell_type": "code",
   "execution_count": 20,
   "id": "14c47b27-6479-4752-bfb4-2f77b830f5b6",
   "metadata": {},
   "outputs": [
    {
     "name": "stdout",
     "output_type": "stream",
     "text": [
      "3\n"
     ]
    }
   ],
   "source": [
    "#Q9) wap ask the user to get count of number of 'a' in a given string\n",
    "#     using for-range\n",
    "\n",
    "s='hai how are you i am good'\n",
    "summ=0\n",
    "#get=eval(input(\"Enter the number of a's you wont : \"))\n",
    "for i in range(len(s)):\n",
    "    if s[i]=='a':\n",
    "        summ+=1\n",
    "        \n",
    "print(summ)    "
   ]
  },
  {
   "cell_type": "code",
   "execution_count": 21,
   "id": "17816cf7-f08b-46ba-9ca6-405145c6b775",
   "metadata": {},
   "outputs": [
    {
     "name": "stdout",
     "output_type": "stream",
     "text": [
      "27\n",
      "27\n"
     ]
    }
   ],
   "source": [
    "#Q10) wap ask the user get the sum of all index numbers of 'a'\n",
    "# 1+8+18= 27\n",
    "\n",
    "s='hai how are you i am good'\n",
    "b=s.index('a')\n",
    "c=s.index('a',b+1)\n",
    "d=s.index('a',c+1)\n",
    "print(b+c+d)\n",
    "\n",
    "summ=0\n",
    "for i in range(len(s)):\n",
    "    if s[i]=='a':\n",
    "        summ=summ+i\n",
    "\n",
    "print(summ)\n",
    "        \n",
    "\n"
   ]
  },
  {
   "cell_type": "code",
   "execution_count": 24,
   "id": "35977dba-b4c5-4866-8d98-91a8b2a48f75",
   "metadata": {},
   "outputs": [
    {
     "name": "stdout",
     "output_type": "stream",
     "text": [
      "a\n",
      "i\n",
      "o\n",
      "a\n",
      "e\n",
      "o\n",
      "u\n",
      "i\n",
      "a\n",
      "o\n",
      "o\n"
     ]
    }
   ],
   "source": [
    "#Q11) wap ask the user get the vowels from a given string using for-range\n",
    "s='hai how are you i am good'\n",
    "for i in range(len(s)):\n",
    "    if s[i] in 'aeiou':\n",
    "        print(s[i])\n",
    "        "
   ]
  },
  {
   "cell_type": "code",
   "execution_count": 25,
   "id": "a19c4511-f6ac-4fcc-b90d-b7e636b406cc",
   "metadata": {},
   "outputs": [
    {
     "name": "stdout",
     "output_type": "stream",
     "text": [
      "a\n",
      "i\n",
      "o\n",
      "a\n",
      "e\n",
      "o\n",
      "u\n",
      "i\n",
      "a\n",
      "o\n",
      "o\n"
     ]
    }
   ],
   "source": [
    "#Q12) wap ask the user get the vowels from a given string using for-range\n",
    "s='hai how are you i am good'\n",
    "s='hai how are you i am good'\n",
    "for i in range(len(s)):\n",
    "    if s[i] in 'aeiou':\n",
    "        print(s[i])\n",
    "        "
   ]
  },
  {
   "cell_type": "code",
   "execution_count": 27,
   "id": "1ffc1477-1ab3-45a3-94b8-dd1e238cd9e3",
   "metadata": {},
   "outputs": [
    {
     "name": "stdout",
     "output_type": "stream",
     "text": [
      "a\n",
      "i\n",
      "o\n",
      "e\n",
      "u\n",
      "The number of vowels are: 5\n"
     ]
    }
   ],
   "source": [
    "#Q13)updated wap ask the user get the vowels from a given string using for-range\n",
    "s='hai how are you i am good'\n",
    "s1=''\n",
    "count=0\n",
    "for i in range(len(s)):\n",
    "    if s[i] not in s1 and s[i] in 'aeiou':\n",
    "        print(s[i])\n",
    "        s1=s1+s[i]\n",
    "        count=count+1\n",
    "print(\"The number of vowels are:\",count)\n"
   ]
  },
  {
   "cell_type": "code",
   "execution_count": null,
   "id": "a61adcf8-8886-4718-8362-6d532a9a1072",
   "metadata": {},
   "outputs": [],
   "source": []
  }
 ],
 "metadata": {
  "kernelspec": {
   "display_name": "Python 3 (ipykernel)",
   "language": "python",
   "name": "python3"
  },
  "language_info": {
   "codemirror_mode": {
    "name": "ipython",
    "version": 3
   },
   "file_extension": ".py",
   "mimetype": "text/x-python",
   "name": "python",
   "nbconvert_exporter": "python",
   "pygments_lexer": "ipython3",
   "version": "3.11.7"
  }
 },
 "nbformat": 4,
 "nbformat_minor": 5
}
