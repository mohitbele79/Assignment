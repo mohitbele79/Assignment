{
 "cells": [
  {
   "cell_type": "code",
   "execution_count": 2,
   "id": "0b94cb27-4824-40f5-bde0-e8963a796916",
   "metadata": {},
   "outputs": [
    {
     "name": "stdin",
     "output_type": "stream",
     "text": [
      "Enter the Length in Centimetres :  10\n"
     ]
    },
    {
     "name": "stdout",
     "output_type": "stream",
     "text": [
      "10 Centimetres is Equal 25.4 Inch.\n"
     ]
    }
   ],
   "source": [
    "#### Problem-1(Use conditional statements)\n",
    "\n",
    "# Write a program that asks the user to enter a length in centimetres. If the user enters\n",
    "# a negative length, the program should tell the user that the entry is invalid. Otherwise,\n",
    "# the program should convert the length to inches and print out the result. There are\n",
    "# 2.54 centimetres in an inch.\n",
    "\n",
    "cen=eval(input('Enter the Length in Centimetres : '))\n",
    "if cen>=0:\n",
    "    inc = cen*2.54\n",
    "    print(f'{cen} Centimetres is Equal {inc} Inch.')\n",
    "else:\n",
    "    print('Entry is  Invalid.')"
   ]
  },
  {
   "cell_type": "code",
   "execution_count": 6,
   "id": "0c73c31a-7583-4d25-bf02-d644848285a0",
   "metadata": {},
   "outputs": [
    {
     "name": "stdin",
     "output_type": "stream",
     "text": [
      "Enter the Temperature :  40\n"
     ]
    },
    {
     "name": "stdout",
     "output_type": "stream",
     "text": [
      "Enter the \"c\" for celsius .\n",
      "Enter the \"f\" for Fahrenheit .\n"
     ]
    },
    {
     "name": "stdin",
     "output_type": "stream",
     "text": [
      "Enter You Choice (c/f) : f\n"
     ]
    },
    {
     "name": "stdout",
     "output_type": "stream",
     "text": [
      "40 Celsius is Equle to 104.0 Fahrenheit .\n"
     ]
    }
   ],
   "source": [
    "#### Problem-2(Use conditional statements)\n",
    "#Ask the user for a temperature. Then ask them what units, Celsius or Fahrenheit, the\n",
    "#temperature is in. Your program should convert the temperature to the other unit. The\n",
    "#conversions are F = 9 5 C +32 and C = 5 9 (F − 32).\n",
    "\n",
    "temp=eval(input('Enter the Temperature : '))\n",
    "print('Enter the \"c\" for celsius .')\n",
    "print('Enter the \"f\" for Fahrenheit .')\n",
    "choice=input('Enter You Choice (c/f) :')\n",
    "if 'c'== choice:\n",
    "    C=(5/9)*(temp - 32)\n",
    "    print(f'{temp} Fahrenheit is Equle to {C} Celsius .')\n",
    "elif 'f'==choice:\n",
    "    F=temp*(9/5)+ 32\n",
    "    print(f'{temp} Celsius is Equle to {F} Fahrenheit .')\n",
    "else:\n",
    "    print('Invalid Choice.')\n"
   ]
  },
  {
   "cell_type": "code",
   "execution_count": 14,
   "id": "638d66ac-e9eb-448b-be9f-607087eccfae",
   "metadata": {},
   "outputs": [
    {
     "name": "stdin",
     "output_type": "stream",
     "text": [
      "Enter the Temperature in  Celsius :  550\n"
     ]
    },
    {
     "name": "stdout",
     "output_type": "stream",
     "text": [
      "550 temperature is above the boiling point.\n"
     ]
    }
   ],
   "source": [
    "#### Problem-3(Use conditional statements)\n",
    "# Ask the user to enter a temperature in Celsius. The program should print a\n",
    "# message based on the temperature:\n",
    "# • If the temperature is less than -273.15, print that the temperature is invalid because it is\n",
    "# below absolute zero.\n",
    "# • If it is exactly -273.15, print that the temperature is absolute 0.\n",
    "# • If the temperature is between -273.15 and 0, print that the temperature is below\n",
    "# freezing. • If it is 0, print that the temperature is at the freezing point.\n",
    "# • If it is between 0 and 100, print that the temperature is in the normal\n",
    "# range. • If it is 100, print that the temperature is at the boiling point.\n",
    "# • If it is above 100, print that the temperature is above the boiling point.\n",
    "\n",
    "\n",
    "temp1=eval(input('Enter the Temperature in  Celsius : '))\n",
    "\n",
    "if temp1 < (-273.15):\n",
    "    print(f'{temp1} temperature is invalid because it is below absolute zero.')   \n",
    "elif temp1 == -273.15:\n",
    "    print(f'{temp1} temperature is absolute 0.')\n",
    "elif temp1 > -273.15 and temp1 < 0:\n",
    "    print(f'{temp1} temperature is below freezing.')    \n",
    "elif temp1 == 0:\n",
    "    print(f'{temp1} temperature is at the freezing point.')\n",
    "elif temp1 > 0 and temp1<100:\n",
    "    print(f'{temp1} temperature is in the normal')     \n",
    "elif temp1 == 100:\n",
    "    print(f'{temp1} temperature is at the boiling point.')\n",
    "elif temp1 > 100:\n",
    "    print(f'{temp1} temperature is above the boiling point.')   "
   ]
  },
  {
   "cell_type": "code",
   "execution_count": 15,
   "id": "45b4ba9f-b516-478c-ba4b-83a1021fb68e",
   "metadata": {},
   "outputs": [
    {
     "name": "stdin",
     "output_type": "stream",
     "text": [
      "Enter your Credits :  100\n"
     ]
    },
    {
     "name": "stdout",
     "output_type": "stream",
     "text": [
      "Student are Seniors.\n"
     ]
    }
   ],
   "source": [
    "#### Problem-4(Use conditional statements)\n",
    "#Write a program that asks the user how many credits they have taken. If they have taken 23 or\n",
    "#less, print that the student is a freshman. If they have taken between 24 and 53, print that they\n",
    "#are asophomore. The range for juniors is 54 to 83, and for seniors it is 84 and over.\n",
    "\n",
    "\n",
    "credit=eval(input('Enter your Credits : '))\n",
    "if credit <= 23:\n",
    "    print('The Student is a Freshman.')\n",
    "elif credit >= 24 and credit <= 53:\n",
    "    print('Student are asophomore.')\n",
    "elif credit >= 54 and credit <= 83:\n",
    "    print('Student are Juniors.')\n",
    "else :\n",
    "    print('Student are Seniors.')"
   ]
  },
  {
   "cell_type": "code",
   "execution_count": 17,
   "id": "a011ede9-1b92-4456-b64e-c1b804aa106c",
   "metadata": {},
   "outputs": [
    {
     "name": "stdin",
     "output_type": "stream",
     "text": [
      "Enter the your Choice :  5\n"
     ]
    },
    {
     "name": "stdout",
     "output_type": "stream",
     "text": [
      "Your Wrong.\n"
     ]
    }
   ],
   "source": [
    "#### Problem-5(Use conditional statements)\n",
    "#Generate a random number between 1 and 10. Ask the user to guess the number and print a\n",
    "#message based on whether they get it right or not.\n",
    "import random\n",
    "num=random.randint(1,10)\n",
    "num1=eval(input('Enter the your Choice : '))\n",
    "if num == num1:\n",
    "    print('Your Right.')\n",
    "else:\n",
    "    print('Your Wrong.')"
   ]
  },
  {
   "cell_type": "code",
   "execution_count": 4,
   "id": "73048e24-3472-4521-bdbc-4ee0d187d022",
   "metadata": {
    "scrolled": true
   },
   "outputs": [
    {
     "name": "stdin",
     "output_type": "stream",
     "text": [
      "Enter the number of Items :  5\n"
     ]
    },
    {
     "name": "stdout",
     "output_type": "stream",
     "text": [
      "5 X 12 = 60\n"
     ]
    }
   ],
   "source": [
    "#### Problem-6(Use conditional statements)\n",
    "# A store charges $12 per item if you buy less than 10 items. If you buy between 10\n",
    "# and 99 items, the cost is $10 per item. If you buy 100 or more items, the cost is $7\n",
    "# per item. Write a program that asks the user how many items they are buying and\n",
    "# prints the total cost.\n",
    "\n",
    "items = eval(input('Enter the number of Items : '))\n",
    "if items<10:\n",
    "    price=items*12\n",
    "    print(f'{items} X 12 = {price}')\n",
    "elif items>10 and items<100:\n",
    "    price=items*10\n",
    "    print(f'{items} X 10 = {price}')\n",
    "elif items>100\n",
    "    price=items*7\n",
    "    print(f'{items} X 7 = {price}')"
   ]
  },
  {
   "cell_type": "code",
   "execution_count": 7,
   "id": "bcc8ff44-3a35-4c7a-b013-08c447da443a",
   "metadata": {},
   "outputs": [
    {
     "name": "stdin",
     "output_type": "stream",
     "text": [
      "Enter the Number1 :  1.999\n",
      "Enter the Number2 :  2\n"
     ]
    },
    {
     "name": "stdout",
     "output_type": "stream",
     "text": [
      "Close\n"
     ]
    }
   ],
   "source": [
    "#### Problem-7(Use conditional statements)\n",
    "# Write a program that asks the user for two numbers and prints Close if the\n",
    "# numbers are within .001 of each other and Not close otherwise.\n",
    "num1=eval(input('Enter the Number1 : '))\n",
    "num2=eval(input('Enter the Number2 : '))\n",
    "if (num1-num2)<=0.001:\n",
    "    print('Close')\n",
    "else :\n",
    "    print('Not Close')"
   ]
  },
  {
   "cell_type": "code",
   "execution_count": 12,
   "id": "ec9db3f3-c928-427f-bffa-d0d10696abfb",
   "metadata": {},
   "outputs": [
    {
     "name": "stdin",
     "output_type": "stream",
     "text": [
      "Enter The Year :  2100\n"
     ]
    },
    {
     "name": "stdout",
     "output_type": "stream",
     "text": [
      "Not leap year\n"
     ]
    }
   ],
   "source": [
    "#### Problem-8(Use conditional statements)\n",
    "# A year is a leap year if it is divisible by 4, except that years divisible by 100 are not leap years unless\n",
    "# they are also divisible by 400. Write a program that asks the user for a year and prints out whether\n",
    "# it is a leap year or not\n",
    "year=eval(input('Enter The Year : '))\n",
    "if year%4==0:\n",
    "    if year % 400 == 0:\n",
    "        print('leap Year')\n",
    "    elif not year % 100 == 0:\n",
    "        print('leap year')\n",
    "    else:\n",
    "        print('Not leap year')\n",
    "        "
   ]
  },
  {
   "cell_type": "code",
   "execution_count": 5,
   "id": "61055789-3aaa-46e4-b5e7-a5e21e5c897e",
   "metadata": {},
   "outputs": [
    {
     "name": "stdin",
     "output_type": "stream",
     "text": [
      "Enter the Number :  75\n"
     ]
    },
    {
     "name": "stdout",
     "output_type": "stream",
     "text": [
      "\" 1 \" is divisors of \" 75 \".\n",
      "\" 3 \" is divisors of \" 75 \".\n",
      "\" 5 \" is divisors of \" 75 \".\n",
      "\" 15 \" is divisors of \" 75 \".\n",
      "\" 25 \" is divisors of \" 75 \".\n",
      "\" 75 \" is divisors of \" 75 \".\n"
     ]
    }
   ],
   "source": [
    "#### Problem-9(Use conditional statements)\n",
    "# Write a program that asks the user to enter a number and prints out all the divisors of that\n",
    "# number. [Hint: the % operator is used to tell if a number is divisible by something.# #\n",
    "\n",
    "num=eval(input('Enter the Number : '))\n",
    "for i in range(1,num+1):\n",
    "    if num%i==0:\n",
    "        print(f'\" {i} \" is divisors of \" {num} \".')"
   ]
  },
  {
   "cell_type": "code",
   "execution_count": 7,
   "id": "fe31eac9-53cb-4a3e-80b7-2b72f2940af3",
   "metadata": {},
   "outputs": [
    {
     "name": "stdin",
     "output_type": "stream",
     "text": [
      "Enter hour (1-12):  5\n",
      "am (1) or pm (2)?  1\n",
      "How many hours ahead?  5\n"
     ]
    },
    {
     "name": "stdout",
     "output_type": "stream",
     "text": [
      "New hour: 10 am\n"
     ]
    }
   ],
   "source": [
    "#### Problem-10(Use conditional statements)\n",
    "#Write a program that asks the user for an hour between 1 and 12, asks them to\n",
    "#enter am or pm, and asks them how many hours into the future they want to go.\n",
    "#Print out what the hour will be that many hours into the future, printing am or pm as\n",
    "#appropriate. An example is shown below.\n",
    "#Enter hour: 8\n",
    "#am (1) or pm (2)? 1\n",
    "#How many hours ahead? 5\n",
    "#New hour: 1 pm\n",
    "\n",
    "hour = int(input(\"Enter hour (1-12): \"))\n",
    "am_pm = int(input(\"am (1) or pm (2)? \"))\n",
    "hours_ahead = int(input(\"How many hours ahead? \"))\n",
    "new_hour = (hour + hours_ahead) % 12\n",
    "if new_hour == 0:\n",
    "    new_hour = 12\n",
    "period_changes = (hour + hours_ahead) // 12\n",
    "if period_changes % 2 == 1:\n",
    "    am_pm = 2 if am_pm == 1 else 1\n",
    "new_period = \"am\" if am_pm == 1 else \"pm\"\n",
    "print(f\"New hour: {new_hour} {new_period}\")\n"
   ]
  },
  {
   "cell_type": "code",
   "execution_count": null,
   "id": "b11435f1-4ffe-4a6b-84a2-5ad0e86bcb09",
   "metadata": {},
   "outputs": [],
   "source": []
  }
 ],
 "metadata": {
  "kernelspec": {
   "display_name": "Python 3 (ipykernel)",
   "language": "python",
   "name": "python3"
  },
  "language_info": {
   "codemirror_mode": {
    "name": "ipython",
    "version": 3
   },
   "file_extension": ".py",
   "mimetype": "text/x-python",
   "name": "python",
   "nbconvert_exporter": "python",
   "pygments_lexer": "ipython3",
   "version": "3.11.7"
  }
 },
 "nbformat": 4,
 "nbformat_minor": 5
}
