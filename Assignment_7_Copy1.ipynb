{
 "cells": [
  {
   "cell_type": "code",
   "execution_count": 1,
   "id": "fdbf4880-c817-4994-ad72-cb5e60a797e8",
   "metadata": {},
   "outputs": [
    {
     "name": "stdout",
     "output_type": "stream",
     "text": [
      "96 Number is Even\n",
      "17 Number is Odd\n",
      "69 Number is Odd\n"
     ]
    }
   ],
   "source": [
    "#1Q) For example\n",
    "# take a random number between  1 to 100\n",
    "# print it is a even number and odd number\n",
    "# you need to generate 3 random number\n",
    "\n",
    "\n",
    "import random \n",
    "a=random.randint(1,100)\n",
    "i=0\n",
    "while i<=2:\n",
    "    a=random.randint(1,100)\n",
    "    if a%2==0:\n",
    "        print(f'{a} Number is Even')\n",
    "    else:\n",
    "        print(f'{a} Number is Odd')\n",
    "        \n",
    "    i+=1"
   ]
  },
  {
   "cell_type": "code",
   "execution_count": 2,
   "id": "3f0a0fa1-24e9-46c5-8f4d-59c3f10e4f19",
   "metadata": {},
   "outputs": [
    {
     "name": "stdin",
     "output_type": "stream",
     "text": [
      "Enter the Number between 10 - 20 only : 10\n"
     ]
    },
    {
     "name": "stdout",
     "output_type": "stream",
     "text": [
      "10 Number is Even\n"
     ]
    },
    {
     "name": "stdin",
     "output_type": "stream",
     "text": [
      "Enter the Number between 10 - 20 only : 14\n"
     ]
    },
    {
     "name": "stdout",
     "output_type": "stream",
     "text": [
      "14 Number is Even\n"
     ]
    },
    {
     "name": "stdin",
     "output_type": "stream",
     "text": [
      "Enter the Number between 10 - 20 only : 16\n"
     ]
    },
    {
     "name": "stdout",
     "output_type": "stream",
     "text": [
      "16 Number is Even\n"
     ]
    },
    {
     "name": "stdin",
     "output_type": "stream",
     "text": [
      "Enter the Number between 10 - 20 only : 17\n"
     ]
    },
    {
     "name": "stdout",
     "output_type": "stream",
     "text": [
      "17 Number is Odd\n"
     ]
    },
    {
     "name": "stdin",
     "output_type": "stream",
     "text": [
      "Enter the Number between 10 - 20 only : 19\n"
     ]
    },
    {
     "name": "stdout",
     "output_type": "stream",
     "text": [
      "19 Number is Odd\n"
     ]
    },
    {
     "name": "stdin",
     "output_type": "stream",
     "text": [
      "Enter the Number between 10 - 20 only : 18\n"
     ]
    },
    {
     "name": "stdout",
     "output_type": "stream",
     "text": [
      "18 Number is Even\n"
     ]
    },
    {
     "name": "stdin",
     "output_type": "stream",
     "text": [
      "Enter the Number between 10 - 20 only : 12\n"
     ]
    },
    {
     "name": "stdout",
     "output_type": "stream",
     "text": [
      "12 Number is Even\n"
     ]
    },
    {
     "name": "stdin",
     "output_type": "stream",
     "text": [
      "Enter the Number between 10 - 20 only : 10\n"
     ]
    },
    {
     "name": "stdout",
     "output_type": "stream",
     "text": [
      "10 Number is Even\n"
     ]
    },
    {
     "name": "stdin",
     "output_type": "stream",
     "text": [
      "Enter the Number between 10 - 20 only : 13\n"
     ]
    },
    {
     "name": "stdout",
     "output_type": "stream",
     "text": [
      "13 Number is Odd\n"
     ]
    },
    {
     "name": "stdin",
     "output_type": "stream",
     "text": [
      "Enter the Number between 10 - 20 only : 11\n"
     ]
    },
    {
     "name": "stdout",
     "output_type": "stream",
     "text": [
      "11 Number is Odd\n"
     ]
    }
   ],
   "source": [
    "# 2Q) wap ask the user print the number is even or odd between 10 to 20\n",
    "i=0\n",
    "while i<10:\n",
    "    a=eval(input('Enter the Number between 10 - 20 only :'))\n",
    "    if a%2==0:\n",
    "        print(f'{a} Number is Even')\n",
    "    else:\n",
    "        print(f'{a} Number is Odd')\n",
    "    i+=1    "
   ]
  },
  {
   "cell_type": "code",
   "execution_count": 3,
   "id": "efc38d3f-fb9b-4f18-9bd8-56518da15a6f",
   "metadata": {},
   "outputs": [
    {
     "name": "stdout",
     "output_type": "stream",
     "text": [
      "Square of 20 is 400\n",
      "Square of 21 is 441\n",
      "Square of 22 is 484\n",
      "Square of 23 is 529\n",
      "Square of 24 is 576\n"
     ]
    }
   ],
   "source": [
    "# 3Q) wap ask the user print the square of the number between 20 to 25.\n",
    "\n",
    "i=20\n",
    "while i<25:\n",
    "    print(f'Square of {i} is {i*i}')\n",
    "    i+=1\n",
    "      "
   ]
  },
  {
   "cell_type": "code",
   "execution_count": 4,
   "id": "d4c920f6-51cd-4184-880e-f01f14212ec8",
   "metadata": {},
   "outputs": [
    {
     "name": "stdin",
     "output_type": "stream",
     "text": [
      "Enter the Number :  55\n"
     ]
    },
    {
     "name": "stdout",
     "output_type": "stream",
     "text": [
      "Square of 55 is 3025.\n"
     ]
    },
    {
     "name": "stdin",
     "output_type": "stream",
     "text": [
      "Enter the Number :  22\n"
     ]
    },
    {
     "name": "stdout",
     "output_type": "stream",
     "text": [
      "Square of 22 is 484.\n"
     ]
    },
    {
     "name": "stdin",
     "output_type": "stream",
     "text": [
      "Enter the Number :  33\n"
     ]
    },
    {
     "name": "stdout",
     "output_type": "stream",
     "text": [
      "Square of 33 is 1089.\n",
      "Loop will be run 3 times.\n"
     ]
    }
   ],
   "source": [
    "# 4Q) WAP ask the user enter number three times find the square of the number.\n",
    "# How many times loop should run.\n",
    "i=0\n",
    "while i<3:\n",
    "    num=eval(input('Enter the Number : '))\n",
    "    print(f'Square of {num} is {num**2}.')\n",
    "    i+=1\n",
    "\n",
    "print(f'Loop will be run {i} times.')\n",
    "    "
   ]
  },
  {
   "cell_type": "code",
   "execution_count": 5,
   "id": "eb9d3117-3003-485f-9227-5a35670a0f2e",
   "metadata": {},
   "outputs": [
    {
     "name": "stdout",
     "output_type": "stream",
     "text": [
      " 14 x 1 = 14 \n",
      " 14 x 2 = 28 \n",
      " 14 x 3 = 42 \n",
      " 14 x 4 = 56 \n",
      " 14 x 5 = 70 \n",
      " 14 x 6 = 84 \n",
      " 14 x 7 = 98 \n",
      " 14 x 8 = 112 \n",
      " 14 x 9 = 126 \n",
      " 14 x 10 = 140 \n"
     ]
    }
   ],
   "source": [
    "#5Q) Print the 14th table\n",
    "# ans:   14 x 1 = 14\n",
    "#        14 x 2 = 28\n",
    "#        14 x 3 = 42\n",
    "#\n",
    "#\n",
    "#        14 x10 = 140\n",
    "# How many times 10\n",
    "\n",
    "\n",
    "i=1\n",
    "while i<=10:\n",
    "    print(f' 14 x {i} = {14*i} ')\n",
    "    i+=1\n"
   ]
  },
  {
   "cell_type": "code",
   "execution_count": 6,
   "id": "89e9cced-e7a4-425a-830e-56862e0c0a1d",
   "metadata": {},
   "outputs": [
    {
     "name": "stdin",
     "output_type": "stream",
     "text": [
      "Enter the Number :  75\n"
     ]
    },
    {
     "name": "stdout",
     "output_type": "stream",
     "text": [
      "Factor1 of 75 is 1\n",
      "Factor2 of 75 is 3\n",
      "Factor3 of 75 is 5\n",
      "Factor4 of 75 is 15\n",
      "Factor5 of 75 is 25\n",
      "Factor6 of 75 is 75\n",
      "Here are Total 6 of 75 upto 75\n"
     ]
    }
   ],
   "source": [
    "#6 Q) Find the factors of 75\n",
    "# step-1: Iterate the loop = which numbers factor you want\n",
    "# step-2: Apply the if condition\n",
    "#         cond= divide the number with each i\n",
    "\n",
    "i=1\n",
    "j=1\n",
    "num=eval(input('Enter the Number : '))\n",
    "while i <= num:\n",
    "    if num % i == 0:\n",
    "        print(f'Factor{j} of {num} is {i}')\n",
    "        j+=1   \n",
    "    i+=1    \n",
    "print(f'Here are Total {j-1} of {num} upto {num}')"
   ]
  },
  {
   "cell_type": "code",
   "execution_count": 7,
   "id": "c5790413-dc22-47dc-a0cc-f6e7c0c211bb",
   "metadata": {},
   "outputs": [
    {
     "name": "stdin",
     "output_type": "stream",
     "text": [
      "Enter the Number :  10\n"
     ]
    },
    {
     "name": "stdout",
     "output_type": "stream",
     "text": [
      "Sum of upto 10 is 55\n"
     ]
    }
   ],
   "source": [
    "#7Q) Write the sum of first 10 Natural numbers\n",
    "# 1 to 10\n",
    "# 1+2+3+4+5+6+7+8+9+10=55\n",
    "\n",
    "i=0\n",
    "summ=0\n",
    "n=eval(input('Enter the Number : '))\n",
    "while i<=n:\n",
    "    summ=summ+i\n",
    "    i+=1\n",
    "print(f'Sum of upto {n} is {summ}')"
   ]
  },
  {
   "cell_type": "code",
   "execution_count": 8,
   "id": "a5382550-9e9b-45eb-a3c5-4fefec80d486",
   "metadata": {},
   "outputs": [
    {
     "name": "stdin",
     "output_type": "stream",
     "text": [
      "Entre the Number :  10\n"
     ]
    },
    {
     "name": "stdout",
     "output_type": "stream",
     "text": [
      "Average of 0 to 10 is 5.5\n"
     ]
    }
   ],
   "source": [
    "# 8Q) Average first 1 to 10 numbers\n",
    "# avg= summation of all the numbers/total number\n",
    "# Wap to find the average of ' N ' numbers in Python.\n",
    "\n",
    "i=0\n",
    "summ=0\n",
    "num=eval(input('Entre the Number : '))\n",
    "\n",
    "while i<=num:\n",
    "    summ=summ+i\n",
    "    i+=1\n",
    "    \n",
    "avg=summ/num    \n",
    "print(f'Average of 0 to {num} is {avg}')   \n",
    " "
   ]
  },
  {
   "cell_type": "code",
   "execution_count": 9,
   "id": "45581257-77b7-4586-82b5-e887c1f9b2e3",
   "metadata": {},
   "outputs": [
    {
     "name": "stdin",
     "output_type": "stream",
     "text": [
      "Enter the Number :  75\n"
     ]
    },
    {
     "name": "stdout",
     "output_type": "stream",
     "text": [
      "Factor1 of 75 is 1\n",
      "Factor2 of 75 is 3\n",
      "Factor3 of 75 is 5\n",
      "Factor4 of 75 is 15\n",
      "Factor5 of 75 is 25\n",
      "Factor6 of 75 is 75\n",
      "Here are Total 6 of 75 upto 75\n"
     ]
    }
   ],
   "source": [
    "#9Q) Find the number of divisors of 75\n",
    "# ans: 1,3,5,15,25,75\n",
    "# Number =6\n",
    "\n",
    "i=1\n",
    "j=1\n",
    "num=eval(input('Enter the Number : '))\n",
    "while i <= num:\n",
    "    if num % i == 0:\n",
    "        print(f'Factor{j} of {num} is {i}')\n",
    "        j+=1   \n",
    "    i+=1    \n",
    "print(f'Here are Total {j-1} of {num} upto {num}')\n"
   ]
  },
  {
   "cell_type": "code",
   "execution_count": 10,
   "id": "c8b1bfa3-4774-44a1-963b-0681dad22d59",
   "metadata": {},
   "outputs": [],
   "source": [
    "\n",
    "# 10Q)\n",
    "# Get a random number between  1 to 10 :  num1\n",
    "# Ask the user enter a number : num2\n",
    "# if num1 == num2  then print won\n",
    "# else print fail\n",
    "\n",
    "# Give 3 chances\n",
    "\n",
    "# Case-2: whenever you won the code should stop\n",
    "\n",
    "# Case-3:\n",
    "# Suppose i want to give 4 chances\n",
    "# Every time you fail I want to display\n",
    "#      Number of chances left\n",
    "\n",
    "# If all the chances you are used\n",
    "#    Try again after 24 hours\n",
    "\n",
    "# If you are win\n",
    "\n",
    "\n"
   ]
  },
  {
   "cell_type": "code",
   "execution_count": 11,
   "id": "2d07bf98-ea92-4606-8846-4ede8db0b055",
   "metadata": {},
   "outputs": [
    {
     "name": "stdout",
     "output_type": "stream",
     "text": [
      "You having only 3 chances. \n"
     ]
    },
    {
     "name": "stdin",
     "output_type": "stream",
     "text": [
      "Enter you Number :  5\n"
     ]
    },
    {
     "name": "stdout",
     "output_type": "stream",
     "text": [
      "You Are Loss\n"
     ]
    },
    {
     "name": "stdin",
     "output_type": "stream",
     "text": [
      "Enter you Number :  2\n"
     ]
    },
    {
     "name": "stdout",
     "output_type": "stream",
     "text": [
      "You Are Loss\n"
     ]
    },
    {
     "name": "stdin",
     "output_type": "stream",
     "text": [
      "Enter you Number :  4\n"
     ]
    },
    {
     "name": "stdout",
     "output_type": "stream",
     "text": [
      "You Are Loss\n"
     ]
    }
   ],
   "source": [
    "# CASE - 1 :\n",
    "import random\n",
    "i=0\n",
    "print('You having only 3 chances. ')\n",
    "while i<3:\n",
    "    num1=random.randint(1,10)\n",
    "    num2=eval(input('Enter you Number : '))\n",
    "    if num1==num2:\n",
    "        print('You Are Win')\n",
    "    else:\n",
    "        print('You Are Loss')\n",
    "    i+=1"
   ]
  },
  {
   "cell_type": "code",
   "execution_count": 12,
   "id": "4db7aa7b-fbd1-4784-b8ed-75616d381db4",
   "metadata": {},
   "outputs": [
    {
     "name": "stdout",
     "output_type": "stream",
     "text": [
      "You having only 3 chances. \n"
     ]
    },
    {
     "name": "stdin",
     "output_type": "stream",
     "text": [
      "Enter you Number :  5\n"
     ]
    },
    {
     "name": "stdout",
     "output_type": "stream",
     "text": [
      "You Are Loss\n"
     ]
    },
    {
     "name": "stdin",
     "output_type": "stream",
     "text": [
      "Enter you Number :  6\n"
     ]
    },
    {
     "name": "stdout",
     "output_type": "stream",
     "text": [
      "You Are Loss\n"
     ]
    },
    {
     "name": "stdin",
     "output_type": "stream",
     "text": [
      "Enter you Number :  7\n"
     ]
    },
    {
     "name": "stdout",
     "output_type": "stream",
     "text": [
      "You Are Loss\n"
     ]
    }
   ],
   "source": [
    "# CASE - 2\n",
    "i=0\n",
    "print('You having only 3 chances. ')\n",
    "while i<3:\n",
    "    num1=random.randint(1,10)\n",
    "    num2=eval(input('Enter you Number : '))\n",
    "    if num1==num2:\n",
    "        print('You Are Win')\n",
    "        break\n",
    "    else:\n",
    "        print('You Are Loss')\n",
    "    i+=1"
   ]
  },
  {
   "cell_type": "code",
   "execution_count": 13,
   "id": "026995ff-45af-4fb6-9360-3af87b5e3210",
   "metadata": {},
   "outputs": [
    {
     "name": "stdout",
     "output_type": "stream",
     "text": [
      "You having only 4 chances. \n"
     ]
    },
    {
     "name": "stdin",
     "output_type": "stream",
     "text": [
      "Enter you Number :  5\n"
     ]
    },
    {
     "name": "stdout",
     "output_type": "stream",
     "text": [
      "You Are Loss\n",
      "you have only 3 chances left.\n"
     ]
    },
    {
     "name": "stdin",
     "output_type": "stream",
     "text": [
      "Enter you Number :  5\n"
     ]
    },
    {
     "name": "stdout",
     "output_type": "stream",
     "text": [
      "You Are Loss\n",
      "you have only 2 chances left.\n"
     ]
    },
    {
     "name": "stdin",
     "output_type": "stream",
     "text": [
      "Enter you Number :  5\n"
     ]
    },
    {
     "name": "stdout",
     "output_type": "stream",
     "text": [
      "You Are Loss\n",
      "you have only 1 chances left.\n"
     ]
    },
    {
     "name": "stdin",
     "output_type": "stream",
     "text": [
      "Enter you Number :  6\n"
     ]
    },
    {
     "name": "stdout",
     "output_type": "stream",
     "text": [
      "You Are Loss\n",
      "you have only 0 chances left.\n",
      "Try after 24 Hours.\n"
     ]
    }
   ],
   "source": [
    "# CASE - 3\n",
    "i=0\n",
    "print('You having only 4 chances. ')\n",
    "while i<4:\n",
    "    num1=random.randint(1,10)\n",
    "    num2=eval(input('Enter you Number : '))\n",
    "    if num1==num2:\n",
    "        print('You Are Win',end='\\n')\n",
    "        break\n",
    "    else:\n",
    "        print('You Are Loss',end='\\n')\n",
    "    print(f'you have only { 3-i } chances left.')\n",
    "    i+=1\n",
    "\n",
    "print('Try after 24 Hours.')"
   ]
  },
  {
   "cell_type": "code",
   "execution_count": 15,
   "id": "13373120-e97c-4977-98cb-2553da33021c",
   "metadata": {},
   "outputs": [
    {
     "name": "stdin",
     "output_type": "stream",
     "text": [
      "Enter the Number 5\n"
     ]
    },
    {
     "name": "stdout",
     "output_type": "stream",
     "text": [
      "5 is Odd \n"
     ]
    },
    {
     "name": "stdin",
     "output_type": "stream",
     "text": [
      "Enter the Number 4\n"
     ]
    },
    {
     "name": "stdout",
     "output_type": "stream",
     "text": [
      "4 is Even \n"
     ]
    },
    {
     "name": "stdin",
     "output_type": "stream",
     "text": [
      "Enter the Number 7\n"
     ]
    },
    {
     "name": "stdout",
     "output_type": "stream",
     "text": [
      "7 is Odd \n"
     ]
    },
    {
     "name": "stdin",
     "output_type": "stream",
     "text": [
      "Enter the Number 8\n"
     ]
    },
    {
     "name": "stdout",
     "output_type": "stream",
     "text": [
      "8 is Even \n"
     ]
    },
    {
     "name": "stdin",
     "output_type": "stream",
     "text": [
      "Enter the Number 6\n"
     ]
    },
    {
     "name": "stdout",
     "output_type": "stream",
     "text": [
      "6 is Even \n",
      "3 Number of Even \n",
      "2 Number of Odd\n"
     ]
    }
   ],
   "source": [
    "# 11q)# wap ask the user get 5 random numbers\n",
    "# Get it is an even number or odd number\n",
    "# also count how many even numbers are there\n",
    "# and  count how many odd numbers are there\n",
    "\n",
    "# Idea\n",
    "# take two counters one even and odd count\n",
    "# For loop 5 times\n",
    "# each time take the random number\n",
    "# If condition\n",
    "#    True counter update\n",
    "# else\n",
    "#   Update the counter\n",
    "\n",
    "\n",
    "i=0\n",
    "e=0\n",
    "o=0\n",
    "while i<5:\n",
    "    num=eval(input('Enter the Number'))\n",
    "    if num % 2==0:\n",
    "        print(f'{num} is Even ')\n",
    "        e+=1\n",
    "    else:\n",
    "        print(f'{num} is Odd ')\n",
    "        o+=1\n",
    "    i+=1\n",
    "print(f'{e} Number of Even ')\n",
    "print(f'{o} Number of Odd')"
   ]
  },
  {
   "cell_type": "code",
   "execution_count": 17,
   "id": "48044d82-bfb2-4abd-b244-c7f78fbc7e79",
   "metadata": {},
   "outputs": [
    {
     "ename": "NameError",
     "evalue": "name 'mbers' is not defined",
     "output_type": "error",
     "traceback": [
      "\u001b[1;31m---------------------------------------------------------------------------\u001b[0m",
      "\u001b[1;31mNameError\u001b[0m                                 Traceback (most recent call last)",
      "Cell \u001b[1;32mIn[17], line 8\u001b[0m\n\u001b[0;32m      1\u001b[0m \u001b[38;5;66;03m# 12Q) # wap ask the user get 5 random numbers\u001b[39;00m\n\u001b[0;32m      2\u001b[0m \u001b[38;5;66;03m# Get it is an even number or odd number\u001b[39;00m\n\u001b[0;32m      3\u001b[0m \u001b[38;5;66;03m# also count how many even numbers are there\u001b[39;00m\n\u001b[0;32m      4\u001b[0m \u001b[38;5;66;03m# and  count how many odd numbers are there\u001b[39;00m\n\u001b[0;32m      5\u001b[0m \u001b[38;5;66;03m# I want summ even numbers\u001b[39;00m\n\u001b[0;32m      6\u001b[0m \u001b[38;5;66;03m# I want summ odd ns\u001b[39;00m\n\u001b[1;32m----> 8\u001b[0m mbers\n",
      "\u001b[1;31mNameError\u001b[0m: name 'mbers' is not defined"
     ]
    }
   ],
   "source": [
    "# 12Q) # wap ask the user get 5 random numbers\r\n",
    "# Get it is an even number or odd number\r\n",
    "# also count how many even numbers are there\r\n",
    "# and  count how many odd numbers are there\r\n",
    "# I want summ even numbers\r\n",
    "# I want summ odd nsmbers"
   ]
  },
  {
   "cell_type": "code",
   "execution_count": 19,
   "id": "ed2472ed-5ce9-40fc-bf01-8481bb581b09",
   "metadata": {},
   "outputs": [
    {
     "name": "stdin",
     "output_type": "stream",
     "text": [
      "Enter the Number 5\n"
     ]
    },
    {
     "name": "stdout",
     "output_type": "stream",
     "text": [
      "5 is Odd \n"
     ]
    },
    {
     "name": "stdin",
     "output_type": "stream",
     "text": [
      "Enter the Number 7\n"
     ]
    },
    {
     "name": "stdout",
     "output_type": "stream",
     "text": [
      "7 is Odd \n"
     ]
    },
    {
     "name": "stdin",
     "output_type": "stream",
     "text": [
      "Enter the Number 5\n"
     ]
    },
    {
     "name": "stdout",
     "output_type": "stream",
     "text": [
      "5 is Odd \n"
     ]
    },
    {
     "name": "stdin",
     "output_type": "stream",
     "text": [
      "Enter the Number 6\n"
     ]
    },
    {
     "name": "stdout",
     "output_type": "stream",
     "text": [
      "6 is Even \n"
     ]
    },
    {
     "name": "stdin",
     "output_type": "stream",
     "text": [
      "Enter the Number 2\n"
     ]
    },
    {
     "name": "stdout",
     "output_type": "stream",
     "text": [
      "2 is Even \n",
      "2 Number of Even \n",
      "3 Number of Odd\n",
      "sum of all Even number is 8 .\n",
      "sum of all Odd number is 17 .\n"
     ]
    }
   ],
   "source": [
    "i=0\n",
    "e=0\n",
    "o=0\n",
    "sume=0\n",
    "sumo=0\n",
    "while i<5:\n",
    "    num=eval(input('Enter the Number'))\n",
    "    if num % 2==0:\n",
    "        print(f'{num} is Even ')\n",
    "        e+=1\n",
    "        sume=sume+num\n",
    "    else:\n",
    "        print(f'{num} is Odd ')\n",
    "        o+=1\n",
    "        sumo=sumo+num\n",
    "    i+=1\n",
    "print(f'{e} Number of Even ')\n",
    "print(f'{o} Number of Odd')\n",
    "print(f'sum of all Even number is {sume} .')\n",
    "print(f'sum of all Odd number is {sumo} .')"
   ]
  },
  {
   "cell_type": "code",
   "execution_count": null,
   "id": "dc7619b4-1880-427b-81ea-7dcc5c1e2c03",
   "metadata": {},
   "outputs": [],
   "source": []
  }
 ],
 "metadata": {
  "kernelspec": {
   "display_name": "Python 3 (ipykernel)",
   "language": "python",
   "name": "python3"
  },
  "language_info": {
   "codemirror_mode": {
    "name": "ipython",
    "version": 3
   },
   "file_extension": ".py",
   "mimetype": "text/x-python",
   "name": "python",
   "nbconvert_exporter": "python",
   "pygments_lexer": "ipython3",
   "version": "3.11.7"
  }
 },
 "nbformat": 4,
 "nbformat_minor": 5
}
