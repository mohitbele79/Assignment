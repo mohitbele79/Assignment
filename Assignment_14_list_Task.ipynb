{
 "cells": [
  {
   "cell_type": "code",
   "execution_count": null,
   "id": "31c11200-73c9-4046-93ff-8498b0169ddb",
   "metadata": {},
   "outputs": [],
   "source": [
    "# In operator : For loop\n",
    "# Index : For loop\n",
    "# Mutability check\n",
    "# Slicing\n",
    "# Concatenation\n",
    "\n",
    "\n",
    "# Postive index\n",
    "# Negative index\n",
    "# Both pos and neg\n"
   ]
  },
  {
   "cell_type": "code",
   "execution_count": 3,
   "id": "d36d6423-6452-46fa-8f93-707eba326294",
   "metadata": {},
   "outputs": [
    {
     "data": {
      "text/plain": [
       "8"
      ]
     },
     "execution_count": 3,
     "metadata": {},
     "output_type": "execute_result"
    }
   ],
   "source": [
    "list=[1,2,3,'Apple','Ball','Cat',True,False]\n",
    "len(list)"
   ]
  },
  {
   "cell_type": "markdown",
   "id": "e1bbbee6-4976-4d94-a981-8c119897a667",
   "metadata": {},
   "source": [
    "# In operator : For loop"
   ]
  },
  {
   "cell_type": "code",
   "execution_count": 8,
   "id": "4581f3fd-2300-4a41-91d5-9fccdb8397af",
   "metadata": {},
   "outputs": [
    {
     "name": "stdout",
     "output_type": "stream",
     "text": [
      "1\n",
      "2\n",
      "3\n",
      "Apple\n",
      "Ball\n",
      "Cat\n",
      "True\n",
      "False\n"
     ]
    }
   ],
   "source": [
    "for i in range(len(list)):\n",
    "    print(list[i])"
   ]
  },
  {
   "cell_type": "markdown",
   "id": "c429fcbf-82e9-4825-881f-2edf26d2ea28",
   "metadata": {},
   "source": [
    "# Index : For loop"
   ]
  },
  {
   "cell_type": "code",
   "execution_count": 16,
   "id": "2a50d562-437e-4f84-8bb0-752caa221844",
   "metadata": {},
   "outputs": [
    {
     "name": "stdout",
     "output_type": "stream",
     "text": [
      "0 -----> 1 -----> -8\n",
      "1 -----> hello -----> -7\n",
      "2 -----> 3 -----> -6\n",
      "3 -----> Apple -----> -5\n",
      "4 -----> Ball -----> -4\n",
      "5 -----> Cat -----> -3\n",
      "6 -----> True -----> -2\n",
      "7 -----> False -----> -1\n"
     ]
    }
   ],
   "source": [
    "\n",
    "for i in range(len(list)):\n",
    "    print(i,list[i],i-len(list),sep=' -----> ')"
   ]
  },
  {
   "cell_type": "markdown",
   "id": "7d120d93-7a04-4963-9809-f8d107bd916b",
   "metadata": {},
   "source": [
    "# Mutability check "
   ]
  },
  {
   "cell_type": "code",
   "execution_count": 18,
   "id": "95ec53c8-93de-4c6f-b0b7-becc14dabcfc",
   "metadata": {},
   "outputs": [],
   "source": [
    "\n",
    "list=[1,2,3,'Apple','Ball','Cat',True,False]\n",
    "list[1]='hello'\n"
   ]
  },
  {
   "cell_type": "code",
   "execution_count": 19,
   "id": "98abece6-23d2-4690-ba90-1c0d371736e3",
   "metadata": {},
   "outputs": [
    {
     "data": {
      "text/plain": [
       "[1, 'hello', 3, 'Apple', 'Ball', 'Cat', True, False]"
      ]
     },
     "execution_count": 19,
     "metadata": {},
     "output_type": "execute_result"
    }
   ],
   "source": [
    "list"
   ]
  },
  {
   "cell_type": "markdown",
   "id": "1724fcc5-8622-4cd0-8ebf-b686e9f5c167",
   "metadata": {},
   "source": [
    "# Slicing"
   ]
  },
  {
   "cell_type": "code",
   "execution_count": 25,
   "id": "9b988af1-a0c6-4d04-9f6a-ecf3aabf7801",
   "metadata": {},
   "outputs": [
    {
     "data": {
      "text/plain": [
       "[1, 3, 'Ball', True]"
      ]
     },
     "execution_count": 25,
     "metadata": {},
     "output_type": "execute_result"
    }
   ],
   "source": [
    "list=[1,2,3,'Apple','Ball','Cat',True,False]\n",
    "list[0:-1:2]"
   ]
  },
  {
   "cell_type": "markdown",
   "id": "44690f26-b94c-445e-aa25-4880afb8436e",
   "metadata": {},
   "source": [
    "# Concatenation"
   ]
  },
  {
   "cell_type": "code",
   "execution_count": 32,
   "id": "3ea985db-1654-4740-b6e9-917f36a8d3ff",
   "metadata": {},
   "outputs": [
    {
     "data": {
      "text/plain": [
       "[1, 2, 3, 'Apple', 'Ball', 'Cat', True, False, 'hello', 'hi', 'how']"
      ]
     },
     "execution_count": 32,
     "metadata": {},
     "output_type": "execute_result"
    }
   ],
   "source": [
    "list=[1,2,3,'Apple','Ball','Cat',True,False]\n",
    "list1=['hello','hi','how']\n",
    "list2=list+list1\n",
    "list2"
   ]
  },
  {
   "cell_type": "code",
   "execution_count": 33,
   "id": "6acf3c02-d108-4371-983f-e7e54baabff9",
   "metadata": {},
   "outputs": [
    {
     "data": {
      "text/plain": [
       "[1, 2, 3, 'Apple', 'Ball', 'Cat', True, False]"
      ]
     },
     "execution_count": 33,
     "metadata": {},
     "output_type": "execute_result"
    }
   ],
   "source": [
    "list"
   ]
  },
  {
   "cell_type": "code",
   "execution_count": 34,
   "id": "4ecb4635-0a22-4939-b458-e24b5c7ff422",
   "metadata": {},
   "outputs": [
    {
     "data": {
      "text/plain": [
       "[1, 2, 3, 'Apple', 'Ball', 'Cat', True, False]"
      ]
     },
     "execution_count": 34,
     "metadata": {},
     "output_type": "execute_result"
    }
   ],
   "source": [
    "list"
   ]
  },
  {
   "cell_type": "code",
   "execution_count": 35,
   "id": "c084a6f9-3506-468e-ac89-f2535b30fce6",
   "metadata": {},
   "outputs": [
    {
     "data": {
      "text/plain": [
       "[1, 2, 3, 'Apple', 'Ball', 'Cat', True, False, 'hello', 'hi', 'how']"
      ]
     },
     "execution_count": 35,
     "metadata": {},
     "output_type": "execute_result"
    }
   ],
   "source": [
    "list2"
   ]
  },
  {
   "cell_type": "markdown",
   "id": "7da36dc7-ab2e-4328-a4f3-5fada60237c5",
   "metadata": {},
   "source": [
    "# Postive index\n"
   ]
  },
  {
   "cell_type": "code",
   "execution_count": 36,
   "id": "22d75dc7-4465-4cbd-9971-3a3adae083b3",
   "metadata": {},
   "outputs": [
    {
     "name": "stdout",
     "output_type": "stream",
     "text": [
      "The positive index is 0 of 1. \n",
      "The positive index is 1 of 2. \n",
      "The positive index is 2 of 3. \n",
      "The positive index is 3 of Apple. \n",
      "The positive index is 4 of Ball. \n",
      "The positive index is 5 of Cat. \n",
      "The positive index is 6 of True. \n",
      "The positive index is 7 of False. \n"
     ]
    }
   ],
   "source": [
    "list=[1,2,3,'Apple','Ball','Cat',True,False]\n",
    "for i in range(len(list)):\n",
    "    print(f'The positive index is {i} of {list[i]}. ')"
   ]
  },
  {
   "cell_type": "code",
   "execution_count": 37,
   "id": "190e60ba-a282-4428-ad65-aa2e56462ff8",
   "metadata": {},
   "outputs": [
    {
     "name": "stdout",
     "output_type": "stream",
     "text": [
      "The negative index is -8 of 1\n",
      "The negative index is -7 of 2\n",
      "The negative index is -6 of 3\n",
      "The negative index is -5 of Apple\n",
      "The negative index is -4 of Ball\n",
      "The negative index is -3 of Cat\n",
      "The negative index is -2 of True\n",
      "The negative index is -1 of False\n"
     ]
    }
   ],
   "source": [
    "# Negative index\n",
    "list=[1,2,3,'Apple','Ball','Cat',True,False]\n",
    "for i in range(len(list)):\n",
    "    print(f'The negative index is {i-len(list)} of {list[i]}')"
   ]
  },
  {
   "cell_type": "markdown",
   "id": "894c4582-d242-42bb-916c-b12c0095343b",
   "metadata": {},
   "source": [
    "# Both pos and neg"
   ]
  },
  {
   "cell_type": "code",
   "execution_count": 41,
   "id": "3154a667-11a5-4669-acc0-2de33a442200",
   "metadata": {},
   "outputs": [
    {
     "name": "stdout",
     "output_type": "stream",
     "text": [
      "The positve index is \"0\" and The negative index is \"-8\" of \"1\".\n",
      "The positve index is \"1\" and The negative index is \"-7\" of \"2\".\n",
      "The positve index is \"2\" and The negative index is \"-6\" of \"3\".\n",
      "The positve index is \"3\" and The negative index is \"-5\" of \"Apple\".\n",
      "The positve index is \"4\" and The negative index is \"-4\" of \"Ball\".\n",
      "The positve index is \"5\" and The negative index is \"-3\" of \"Cat\".\n",
      "The positve index is \"6\" and The negative index is \"-2\" of \"True\".\n",
      "The positve index is \"7\" and The negative index is \"-1\" of \"False\".\n"
     ]
    }
   ],
   "source": [
    "list=[1,2,3,'Apple','Ball','Cat',True,False]\n",
    "for i in range(len(list)):\n",
    "    print(f'The positve index is \"{i}\" and The negative index is \"{i-len(list)}\" of \"{list[i]}\".')"
   ]
  },
  {
   "cell_type": "code",
   "execution_count": null,
   "id": "d81218f6-5888-490d-ab2f-68a40bea5cb0",
   "metadata": {},
   "outputs": [],
   "source": []
  }
 ],
 "metadata": {
  "kernelspec": {
   "display_name": "Python 3 (ipykernel)",
   "language": "python",
   "name": "python3"
  },
  "language_info": {
   "codemirror_mode": {
    "name": "ipython",
    "version": 3
   },
   "file_extension": ".py",
   "mimetype": "text/x-python",
   "name": "python",
   "nbconvert_exporter": "python",
   "pygments_lexer": "ipython3",
   "version": "3.11.7"
  }
 },
 "nbformat": 4,
 "nbformat_minor": 5
}
