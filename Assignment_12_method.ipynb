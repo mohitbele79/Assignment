{
 "cells": [
  {
   "cell_type": "code",
   "execution_count": null,
   "id": "61bc207b-b82e-4fc3-8c13-d5e8bb3c5c47",
   "metadata": {},
   "outputs": [],
   "source": [
    "'isalnum',\n",
    "'isalpha',\n",
    "'isascii',\n",
    "'isdecimal',\n",
    "'isdigit',\n",
    "'isidentifier',\n",
    "'islower',\n",
    "'isnumeric',\n",
    "'isprintable',\n",
    "'isspace',\n",
    "'istitle',\n",
    "'isupper',\n"
   ]
  },
  {
   "cell_type": "markdown",
   "id": "c7902439-407d-4262-8670-30862e82dd90",
   "metadata": {},
   "source": [
    "# isalnum()"
   ]
  },
  {
   "cell_type": "code",
   "execution_count": 1,
   "id": "bf9c3be0-b3be-432d-8670-a7c6eec4ac3a",
   "metadata": {},
   "outputs": [
    {
     "name": "stdout",
     "output_type": "stream",
     "text": [
      "Help on built-in function isalnum:\n",
      "\n",
      "isalnum() method of builtins.str instance\n",
      "    Return True if the string is an alpha-numeric string, False otherwise.\n",
      "    \n",
      "    A string is alpha-numeric if all characters in the string are alpha-numeric and\n",
      "    there is at least one character in the string.\n",
      "\n"
     ]
    }
   ],
   "source": [
    "help(''.isalnum)"
   ]
  },
  {
   "cell_type": "code",
   "execution_count": 3,
   "id": "1a42e1ff-f268-412c-a3ed-db194942144b",
   "metadata": {},
   "outputs": [
    {
     "data": {
      "text/plain": [
       "True"
      ]
     },
     "execution_count": 3,
     "metadata": {},
     "output_type": "execute_result"
    }
   ],
   "source": [
    "str='mohit79'\n",
    "str.isalnum()"
   ]
  },
  {
   "cell_type": "code",
   "execution_count": 8,
   "id": "ea886bae-bd3f-4b45-ba2d-0fdc585ef54b",
   "metadata": {},
   "outputs": [
    {
     "data": {
      "text/plain": [
       "True"
      ]
     },
     "execution_count": 8,
     "metadata": {},
     "output_type": "execute_result"
    }
   ],
   "source": [
    "str1='mohit'\n",
    "str1.isalnum()"
   ]
  },
  {
   "cell_type": "code",
   "execution_count": 11,
   "id": "8555c011-2f02-4fee-b1e6-08ecdcd9a206",
   "metadata": {},
   "outputs": [
    {
     "data": {
      "text/plain": [
       "False"
      ]
     },
     "execution_count": 11,
     "metadata": {},
     "output_type": "execute_result"
    }
   ],
   "source": [
    "str1='mohit@bele79'\n",
    "str1.isalnum()"
   ]
  },
  {
   "cell_type": "markdown",
   "id": "fa572b51-8c05-4e83-a039-d1688e6c0981",
   "metadata": {},
   "source": [
    "# isalpha()"
   ]
  },
  {
   "cell_type": "code",
   "execution_count": 13,
   "id": "c5893d36-6dcc-4d16-a098-23eb8eeac1cb",
   "metadata": {},
   "outputs": [
    {
     "name": "stdout",
     "output_type": "stream",
     "text": [
      "Help on built-in function isalpha:\n",
      "\n",
      "isalpha() method of builtins.str instance\n",
      "    Return True if the string is an alphabetic string, False otherwise.\n",
      "    \n",
      "    A string is alphabetic if all characters in the string are alphabetic and there\n",
      "    is at least one character in the string.\n",
      "\n"
     ]
    }
   ],
   "source": [
    "help(''.isalpha)"
   ]
  },
  {
   "cell_type": "code",
   "execution_count": 14,
   "id": "4e6c5d6a-de86-4f8d-8cc8-2e97c45ae0e4",
   "metadata": {},
   "outputs": [
    {
     "data": {
      "text/plain": [
       "True"
      ]
     },
     "execution_count": 14,
     "metadata": {},
     "output_type": "execute_result"
    }
   ],
   "source": [
    "str3='mohitbele'\n",
    "str3.isalpha()"
   ]
  },
  {
   "cell_type": "code",
   "execution_count": 15,
   "id": "4f8cab7b-cbfc-49fa-aac1-fe01ef3574f8",
   "metadata": {},
   "outputs": [
    {
     "data": {
      "text/plain": [
       "False"
      ]
     },
     "execution_count": 15,
     "metadata": {},
     "output_type": "execute_result"
    }
   ],
   "source": [
    "str3='mohit79'\n",
    "str3.isalpha()"
   ]
  },
  {
   "cell_type": "code",
   "execution_count": 16,
   "id": "64e4a08b-507d-46d4-bf00-530dea696d32",
   "metadata": {},
   "outputs": [
    {
     "data": {
      "text/plain": [
       "False"
      ]
     },
     "execution_count": 16,
     "metadata": {},
     "output_type": "execute_result"
    }
   ],
   "source": [
    "str3='mohit@'\n",
    "str3.isalpha()"
   ]
  },
  {
   "cell_type": "markdown",
   "id": "f63612ab-c11c-4bc4-a738-45f89e0b2b1f",
   "metadata": {},
   "source": [
    "# isascii()"
   ]
  },
  {
   "cell_type": "code",
   "execution_count": 18,
   "id": "2b60a1e8-3eaf-4ba5-b30a-9c984bdf7613",
   "metadata": {},
   "outputs": [
    {
     "name": "stdout",
     "output_type": "stream",
     "text": [
      "Help on bool object:\n",
      "\n",
      "class bool(int)\n",
      " |  bool(x) -> bool\n",
      " |  \n",
      " |  Returns True when the argument x is true, False otherwise.\n",
      " |  The builtins True and False are the only two instances of the class bool.\n",
      " |  The class bool is a subclass of the class int, and cannot be subclassed.\n",
      " |  \n",
      " |  Method resolution order:\n",
      " |      bool\n",
      " |      int\n",
      " |      object\n",
      " |  \n",
      " |  Methods defined here:\n",
      " |  \n",
      " |  __and__(self, value, /)\n",
      " |      Return self&value.\n",
      " |  \n",
      " |  __or__(self, value, /)\n",
      " |      Return self|value.\n",
      " |  \n",
      " |  __rand__(self, value, /)\n",
      " |      Return value&self.\n",
      " |  \n",
      " |  __repr__(self, /)\n",
      " |      Return repr(self).\n",
      " |  \n",
      " |  __ror__(self, value, /)\n",
      " |      Return value|self.\n",
      " |  \n",
      " |  __rxor__(self, value, /)\n",
      " |      Return value^self.\n",
      " |  \n",
      " |  __xor__(self, value, /)\n",
      " |      Return self^value.\n",
      " |  \n",
      " |  ----------------------------------------------------------------------\n",
      " |  Static methods defined here:\n",
      " |  \n",
      " |  __new__(*args, **kwargs) from builtins.type\n",
      " |      Create and return a new object.  See help(type) for accurate signature.\n",
      " |  \n",
      " |  ----------------------------------------------------------------------\n",
      " |  Methods inherited from int:\n",
      " |  \n",
      " |  __abs__(self, /)\n",
      " |      abs(self)\n",
      " |  \n",
      " |  __add__(self, value, /)\n",
      " |      Return self+value.\n",
      " |  \n",
      " |  __bool__(self, /)\n",
      " |      True if self else False\n",
      " |  \n",
      " |  __ceil__(...)\n",
      " |      Ceiling of an Integral returns itself.\n",
      " |  \n",
      " |  __divmod__(self, value, /)\n",
      " |      Return divmod(self, value).\n",
      " |  \n",
      " |  __eq__(self, value, /)\n",
      " |      Return self==value.\n",
      " |  \n",
      " |  __float__(self, /)\n",
      " |      float(self)\n",
      " |  \n",
      " |  __floor__(...)\n",
      " |      Flooring an Integral returns itself.\n",
      " |  \n",
      " |  __floordiv__(self, value, /)\n",
      " |      Return self//value.\n",
      " |  \n",
      " |  __format__(self, format_spec, /)\n",
      " |      Default object formatter.\n",
      " |  \n",
      " |  __ge__(self, value, /)\n",
      " |      Return self>=value.\n",
      " |  \n",
      " |  __getattribute__(self, name, /)\n",
      " |      Return getattr(self, name).\n",
      " |  \n",
      " |  __getnewargs__(self, /)\n",
      " |  \n",
      " |  __gt__(self, value, /)\n",
      " |      Return self>value.\n",
      " |  \n",
      " |  __hash__(self, /)\n",
      " |      Return hash(self).\n",
      " |  \n",
      " |  __index__(self, /)\n",
      " |      Return self converted to an integer, if self is suitable for use as an index into a list.\n",
      " |  \n",
      " |  __int__(self, /)\n",
      " |      int(self)\n",
      " |  \n",
      " |  __invert__(self, /)\n",
      " |      ~self\n",
      " |  \n",
      " |  __le__(self, value, /)\n",
      " |      Return self<=value.\n",
      " |  \n",
      " |  __lshift__(self, value, /)\n",
      " |      Return self<<value.\n",
      " |  \n",
      " |  __lt__(self, value, /)\n",
      " |      Return self<value.\n",
      " |  \n",
      " |  __mod__(self, value, /)\n",
      " |      Return self%value.\n",
      " |  \n",
      " |  __mul__(self, value, /)\n",
      " |      Return self*value.\n",
      " |  \n",
      " |  __ne__(self, value, /)\n",
      " |      Return self!=value.\n",
      " |  \n",
      " |  __neg__(self, /)\n",
      " |      -self\n",
      " |  \n",
      " |  __pos__(self, /)\n",
      " |      +self\n",
      " |  \n",
      " |  __pow__(self, value, mod=None, /)\n",
      " |      Return pow(self, value, mod).\n",
      " |  \n",
      " |  __radd__(self, value, /)\n",
      " |      Return value+self.\n",
      " |  \n",
      " |  __rdivmod__(self, value, /)\n",
      " |      Return divmod(value, self).\n",
      " |  \n",
      " |  __rfloordiv__(self, value, /)\n",
      " |      Return value//self.\n",
      " |  \n",
      " |  __rlshift__(self, value, /)\n",
      " |      Return value<<self.\n",
      " |  \n",
      " |  __rmod__(self, value, /)\n",
      " |      Return value%self.\n",
      " |  \n",
      " |  __rmul__(self, value, /)\n",
      " |      Return value*self.\n",
      " |  \n",
      " |  __round__(...)\n",
      " |      Rounding an Integral returns itself.\n",
      " |      \n",
      " |      Rounding with an ndigits argument also returns an integer.\n",
      " |  \n",
      " |  __rpow__(self, value, mod=None, /)\n",
      " |      Return pow(value, self, mod).\n",
      " |  \n",
      " |  __rrshift__(self, value, /)\n",
      " |      Return value>>self.\n",
      " |  \n",
      " |  __rshift__(self, value, /)\n",
      " |      Return self>>value.\n",
      " |  \n",
      " |  __rsub__(self, value, /)\n",
      " |      Return value-self.\n",
      " |  \n",
      " |  __rtruediv__(self, value, /)\n",
      " |      Return value/self.\n",
      " |  \n",
      " |  __sizeof__(self, /)\n",
      " |      Returns size in memory, in bytes.\n",
      " |  \n",
      " |  __sub__(self, value, /)\n",
      " |      Return self-value.\n",
      " |  \n",
      " |  __truediv__(self, value, /)\n",
      " |      Return self/value.\n",
      " |  \n",
      " |  __trunc__(...)\n",
      " |      Truncating an Integral returns itself.\n",
      " |  \n",
      " |  as_integer_ratio(self, /)\n",
      " |      Return integer ratio.\n",
      " |      \n",
      " |      Return a pair of integers, whose ratio is exactly equal to the original int\n",
      " |      and with a positive denominator.\n",
      " |      \n",
      " |      >>> (10).as_integer_ratio()\n",
      " |      (10, 1)\n",
      " |      >>> (-10).as_integer_ratio()\n",
      " |      (-10, 1)\n",
      " |      >>> (0).as_integer_ratio()\n",
      " |      (0, 1)\n",
      " |  \n",
      " |  bit_count(self, /)\n",
      " |      Number of ones in the binary representation of the absolute value of self.\n",
      " |      \n",
      " |      Also known as the population count.\n",
      " |      \n",
      " |      >>> bin(13)\n",
      " |      '0b1101'\n",
      " |      >>> (13).bit_count()\n",
      " |      3\n",
      " |  \n",
      " |  bit_length(self, /)\n",
      " |      Number of bits necessary to represent self in binary.\n",
      " |      \n",
      " |      >>> bin(37)\n",
      " |      '0b100101'\n",
      " |      >>> (37).bit_length()\n",
      " |      6\n",
      " |  \n",
      " |  conjugate(...)\n",
      " |      Returns self, the complex conjugate of any int.\n",
      " |  \n",
      " |  to_bytes(self, /, length=1, byteorder='big', *, signed=False)\n",
      " |      Return an array of bytes representing an integer.\n",
      " |      \n",
      " |      length\n",
      " |        Length of bytes object to use.  An OverflowError is raised if the\n",
      " |        integer is not representable with the given number of bytes.  Default\n",
      " |        is length 1.\n",
      " |      byteorder\n",
      " |        The byte order used to represent the integer.  If byteorder is 'big',\n",
      " |        the most significant byte is at the beginning of the byte array.  If\n",
      " |        byteorder is 'little', the most significant byte is at the end of the\n",
      " |        byte array.  To request the native byte order of the host system, use\n",
      " |        `sys.byteorder' as the byte order value.  Default is to use 'big'.\n",
      " |      signed\n",
      " |        Determines whether two's complement is used to represent the integer.\n",
      " |        If signed is False and a negative integer is given, an OverflowError\n",
      " |        is raised.\n",
      " |  \n",
      " |  ----------------------------------------------------------------------\n",
      " |  Class methods inherited from int:\n",
      " |  \n",
      " |  from_bytes(bytes, byteorder='big', *, signed=False) from builtins.type\n",
      " |      Return the integer represented by the given array of bytes.\n",
      " |      \n",
      " |      bytes\n",
      " |        Holds the array of bytes to convert.  The argument must either\n",
      " |        support the buffer protocol or be an iterable object producing bytes.\n",
      " |        Bytes and bytearray are examples of built-in objects that support the\n",
      " |        buffer protocol.\n",
      " |      byteorder\n",
      " |        The byte order used to represent the integer.  If byteorder is 'big',\n",
      " |        the most significant byte is at the beginning of the byte array.  If\n",
      " |        byteorder is 'little', the most significant byte is at the end of the\n",
      " |        byte array.  To request the native byte order of the host system, use\n",
      " |        `sys.byteorder' as the byte order value.  Default is to use 'big'.\n",
      " |      signed\n",
      " |        Indicates whether two's complement is used to represent the integer.\n",
      " |  \n",
      " |  ----------------------------------------------------------------------\n",
      " |  Data descriptors inherited from int:\n",
      " |  \n",
      " |  denominator\n",
      " |      the denominator of a rational number in lowest terms\n",
      " |  \n",
      " |  imag\n",
      " |      the imaginary part of a complex number\n",
      " |  \n",
      " |  numerator\n",
      " |      the numerator of a rational number in lowest terms\n",
      " |  \n",
      " |  real\n",
      " |      the real part of a complex number\n",
      "\n"
     ]
    }
   ],
   "source": [
    "help(''.isascii())"
   ]
  },
  {
   "cell_type": "code",
   "execution_count": 17,
   "id": "ad016e7b-ea31-49e0-b4db-ddf8b6a07d18",
   "metadata": {},
   "outputs": [
    {
     "data": {
      "text/plain": [
       "True"
      ]
     },
     "execution_count": 17,
     "metadata": {},
     "output_type": "execute_result"
    }
   ],
   "source": [
    "str4='mohit'\n",
    "str4.isascii()"
   ]
  },
  {
   "cell_type": "markdown",
   "id": "43c69d54-f138-40fb-8993-51b7307ad6f7",
   "metadata": {},
   "source": [
    "# isdecimal()"
   ]
  },
  {
   "cell_type": "code",
   "execution_count": 20,
   "id": "39d67025-56d2-4f5e-bd92-eb243f181560",
   "metadata": {},
   "outputs": [
    {
     "name": "stdout",
     "output_type": "stream",
     "text": [
      "Help on built-in function isdecimal:\n",
      "\n",
      "isdecimal() method of builtins.str instance\n",
      "    Return True if the string is a decimal string, False otherwise.\n",
      "    \n",
      "    A string is a decimal string if all characters in the string are decimal and\n",
      "    there is at least one character in the string.\n",
      "\n"
     ]
    }
   ],
   "source": [
    "help(''.isdecimal)"
   ]
  },
  {
   "cell_type": "code",
   "execution_count": 27,
   "id": "8f94345f-ef88-4ad4-a634-975783c7d829",
   "metadata": {},
   "outputs": [
    {
     "data": {
      "text/plain": [
       "False"
      ]
     },
     "execution_count": 27,
     "metadata": {},
     "output_type": "execute_result"
    }
   ],
   "source": [
    "str5='abc'\n",
    "str5.isdecimal()"
   ]
  },
  {
   "cell_type": "code",
   "execution_count": 28,
   "id": "6ec88018-ebd3-4776-9749-2821bce23c96",
   "metadata": {},
   "outputs": [
    {
     "data": {
      "text/plain": [
       "False"
      ]
     },
     "execution_count": 28,
     "metadata": {},
     "output_type": "execute_result"
    }
   ],
   "source": [
    "str5='10.5'\n",
    "str5.isdecimal()"
   ]
  },
  {
   "cell_type": "code",
   "execution_count": 29,
   "id": "021640f8-ab24-4ae7-aeda-b42a817791ec",
   "metadata": {},
   "outputs": [
    {
     "ename": "AttributeError",
     "evalue": "'float' object has no attribute 'isdecimal'",
     "output_type": "error",
     "traceback": [
      "\u001b[1;31m---------------------------------------------------------------------------\u001b[0m",
      "\u001b[1;31mAttributeError\u001b[0m                            Traceback (most recent call last)",
      "Cell \u001b[1;32mIn[29], line 2\u001b[0m\n\u001b[0;32m      1\u001b[0m str5\u001b[38;5;241m=\u001b[39m\u001b[38;5;241m10.5\u001b[39m\n\u001b[1;32m----> 2\u001b[0m str5\u001b[38;5;241m.\u001b[39misdecimal()\n",
      "\u001b[1;31mAttributeError\u001b[0m: 'float' object has no attribute 'isdecimal'"
     ]
    }
   ],
   "source": [
    "str5=10.5\n",
    "str5.isdecimal()"
   ]
  },
  {
   "cell_type": "code",
   "execution_count": 30,
   "id": "60105f43-f9e8-4049-a08f-f04d48285e6f",
   "metadata": {},
   "outputs": [
    {
     "name": "stdout",
     "output_type": "stream",
     "text": [
      "True\n",
      "False\n"
     ]
    }
   ],
   "source": [
    "a = \"\\u0030\" #unicode for 0\n",
    "b = \"\\u0047\" #unicode for G\n",
    "\n",
    "print(a.isdecimal())\n",
    "print(b.isdecimal())"
   ]
  },
  {
   "cell_type": "code",
   "execution_count": 31,
   "id": "f7ff7935-4090-49b4-9b59-39cd98d51ad6",
   "metadata": {},
   "outputs": [
    {
     "data": {
      "text/plain": [
       "True"
      ]
     },
     "execution_count": 31,
     "metadata": {},
     "output_type": "execute_result"
    }
   ],
   "source": [
    "str5='555555'\n",
    "str5.isdecimal()"
   ]
  },
  {
   "cell_type": "markdown",
   "id": "25a00331-36cd-4a3b-bf79-2f62afc67e67",
   "metadata": {},
   "source": [
    "# isdigit()"
   ]
  },
  {
   "cell_type": "code",
   "execution_count": 33,
   "id": "4da4eba7-1b8c-4a58-acd4-561b22b36ce6",
   "metadata": {},
   "outputs": [
    {
     "name": "stdout",
     "output_type": "stream",
     "text": [
      "Help on built-in function isdigit:\n",
      "\n",
      "isdigit() method of builtins.str instance\n",
      "    Return True if the string is a digit string, False otherwise.\n",
      "    \n",
      "    A string is a digit string if all characters in the string are digits and there\n",
      "    is at least one character in the string.\n",
      "\n"
     ]
    }
   ],
   "source": [
    "help(''.isdigit)"
   ]
  },
  {
   "cell_type": "code",
   "execution_count": 34,
   "id": "8a7dac8d-30e9-4783-a90e-ec2919e3e135",
   "metadata": {},
   "outputs": [
    {
     "data": {
      "text/plain": [
       "False"
      ]
     },
     "execution_count": 34,
     "metadata": {},
     "output_type": "execute_result"
    }
   ],
   "source": [
    "str6='mohit55'\n",
    "str6.isdigit()"
   ]
  },
  {
   "cell_type": "code",
   "execution_count": 35,
   "id": "9d6ab92e-9486-4dce-9944-f3373fbac94c",
   "metadata": {},
   "outputs": [
    {
     "data": {
      "text/plain": [
       "True"
      ]
     },
     "execution_count": 35,
     "metadata": {},
     "output_type": "execute_result"
    }
   ],
   "source": [
    "str6='12543578'\n",
    "str6.isdigit()"
   ]
  },
  {
   "cell_type": "code",
   "execution_count": 36,
   "id": "b9c7a562-f980-4e41-a3e3-71102fa13749",
   "metadata": {},
   "outputs": [
    {
     "name": "stdout",
     "output_type": "stream",
     "text": [
      "True\n",
      "True\n"
     ]
    }
   ],
   "source": [
    "a = \"\\u0030\" #unicode for 0\n",
    "b = \"\\u00B2\" #unicode for ²\n",
    "\n",
    "print(a.isdigit())\n",
    "print(b.isdigit())\n"
   ]
  },
  {
   "cell_type": "markdown",
   "id": "2fca6aef-1d6d-484f-bde1-82f46412a012",
   "metadata": {},
   "source": [
    "# isidentifier"
   ]
  },
  {
   "cell_type": "code",
   "execution_count": 38,
   "id": "f6b022d8-a28a-4622-847a-348116fd9469",
   "metadata": {},
   "outputs": [
    {
     "name": "stdout",
     "output_type": "stream",
     "text": [
      "Help on built-in function isidentifier:\n",
      "\n",
      "isidentifier() method of builtins.str instance\n",
      "    Return True if the string is a valid Python identifier, False otherwise.\n",
      "    \n",
      "    Call keyword.iskeyword(s) to test whether string s is a reserved identifier,\n",
      "    such as \"def\" or \"class\".\n",
      "\n"
     ]
    }
   ],
   "source": [
    "help(''.isidentifier)"
   ]
  },
  {
   "cell_type": "code",
   "execution_count": 39,
   "id": "cd6d9d13-0a40-447a-b14b-886e90d5ffcd",
   "metadata": {},
   "outputs": [
    {
     "data": {
      "text/plain": [
       "True"
      ]
     },
     "execution_count": 39,
     "metadata": {},
     "output_type": "execute_result"
    }
   ],
   "source": [
    "str7='mohit'\n",
    "str7.isidentifier()"
   ]
  },
  {
   "cell_type": "code",
   "execution_count": 40,
   "id": "218e6ebe-7fe0-4675-ac58-6fc1a0060e5f",
   "metadata": {},
   "outputs": [
    {
     "data": {
      "text/plain": [
       "True"
      ]
     },
     "execution_count": 40,
     "metadata": {},
     "output_type": "execute_result"
    }
   ],
   "source": [
    "str7='_'\n",
    "str7.isidentifier()"
   ]
  },
  {
   "cell_type": "code",
   "execution_count": 41,
   "id": "597a29ad-370d-4209-a220-a38163eb7a30",
   "metadata": {},
   "outputs": [
    {
     "data": {
      "text/plain": [
       "False"
      ]
     },
     "execution_count": 41,
     "metadata": {},
     "output_type": "execute_result"
    }
   ],
   "source": [
    "str7='5555'\n",
    "str7.isidentifier()"
   ]
  },
  {
   "cell_type": "code",
   "execution_count": 42,
   "id": "046feacb-1ef8-49e8-a4ba-7ef74b4e4297",
   "metadata": {},
   "outputs": [
    {
     "data": {
      "text/plain": [
       "True"
      ]
     },
     "execution_count": 42,
     "metadata": {},
     "output_type": "execute_result"
    }
   ],
   "source": [
    "str7='_5555'\n",
    "str7.isidentifier()"
   ]
  },
  {
   "cell_type": "markdown",
   "id": "a13bf620-8b3b-46bf-b18c-57c6153076eb",
   "metadata": {},
   "source": [
    "# islower()"
   ]
  },
  {
   "cell_type": "code",
   "execution_count": 43,
   "id": "a2b3f9c0-68ea-4f45-991f-c61233d1b48a",
   "metadata": {},
   "outputs": [
    {
     "data": {
      "text/plain": [
       "True"
      ]
     },
     "execution_count": 43,
     "metadata": {},
     "output_type": "execute_result"
    }
   ],
   "source": [
    "str8='mohit'\n",
    "str8.islower()"
   ]
  },
  {
   "cell_type": "code",
   "execution_count": 44,
   "id": "cd26373e-6de6-48ec-ac03-cd0571d0e9e1",
   "metadata": {},
   "outputs": [
    {
     "data": {
      "text/plain": [
       "False"
      ]
     },
     "execution_count": 44,
     "metadata": {},
     "output_type": "execute_result"
    }
   ],
   "source": [
    "str8='Mohit'\n",
    "str8.islower()"
   ]
  },
  {
   "cell_type": "markdown",
   "id": "87858e3e-a281-47ae-bc78-9f05fdfc45f4",
   "metadata": {},
   "source": [
    "# isnumeric()"
   ]
  },
  {
   "cell_type": "code",
   "execution_count": 45,
   "id": "6f1d7d4b-c646-4e83-926a-3d82ac4d25ac",
   "metadata": {},
   "outputs": [
    {
     "name": "stdout",
     "output_type": "stream",
     "text": [
      "Help on built-in function isnumeric:\n",
      "\n",
      "isnumeric() method of builtins.str instance\n",
      "    Return True if the string is a numeric string, False otherwise.\n",
      "    \n",
      "    A string is numeric if all characters in the string are numeric and there is at\n",
      "    least one character in the string.\n",
      "\n"
     ]
    }
   ],
   "source": [
    "help(''.isnumeric)"
   ]
  },
  {
   "cell_type": "code",
   "execution_count": 46,
   "id": "ef728cd9-f1f6-4aca-933d-cc2fbd10545d",
   "metadata": {},
   "outputs": [
    {
     "data": {
      "text/plain": [
       "True"
      ]
     },
     "execution_count": 46,
     "metadata": {},
     "output_type": "execute_result"
    }
   ],
   "source": [
    "str9='958746123'\n",
    "str9.isnumeric()"
   ]
  },
  {
   "cell_type": "code",
   "execution_count": 47,
   "id": "288605df-1a46-4d9c-9fe5-5ac5a5dd7731",
   "metadata": {},
   "outputs": [
    {
     "data": {
      "text/plain": [
       "False"
      ]
     },
     "execution_count": 47,
     "metadata": {},
     "output_type": "execute_result"
    }
   ],
   "source": [
    "str9='mohit79'\n",
    "str9.isnumeric()"
   ]
  },
  {
   "cell_type": "markdown",
   "id": "f51721cf-a2be-49c3-80d3-5c01882f165e",
   "metadata": {},
   "source": [
    "# isprintable()"
   ]
  },
  {
   "cell_type": "code",
   "execution_count": 48,
   "id": "3fa380a1-97f5-4549-95bf-c71b9f0ca9ed",
   "metadata": {},
   "outputs": [
    {
     "name": "stdout",
     "output_type": "stream",
     "text": [
      "Help on built-in function isprintable:\n",
      "\n",
      "isprintable() method of builtins.str instance\n",
      "    Return True if the string is printable, False otherwise.\n",
      "    \n",
      "    A string is printable if all of its characters are considered printable in\n",
      "    repr() or if it is empty.\n",
      "\n"
     ]
    }
   ],
   "source": [
    "help(''.isprintable)"
   ]
  },
  {
   "cell_type": "code",
   "execution_count": 49,
   "id": "8bbed1c4-d263-4dbe-9ab7-486377a8f3e7",
   "metadata": {},
   "outputs": [
    {
     "data": {
      "text/plain": [
       "True"
      ]
     },
     "execution_count": 49,
     "metadata": {},
     "output_type": "execute_result"
    }
   ],
   "source": [
    "str10='mohit#@79?'\n",
    "str10.isprintable()"
   ]
  },
  {
   "cell_type": "code",
   "execution_count": 50,
   "id": "551d524d-5094-49ba-a96e-f209a09c2556",
   "metadata": {},
   "outputs": [
    {
     "data": {
      "text/plain": [
       "False"
      ]
     },
     "execution_count": 50,
     "metadata": {},
     "output_type": "execute_result"
    }
   ],
   "source": [
    "str10='mohit\\n#@79?'\n",
    "str10.isprintable()"
   ]
  },
  {
   "cell_type": "code",
   "execution_count": 53,
   "id": "72234ba9-6e0f-4da2-bc6c-bb30e16578e3",
   "metadata": {},
   "outputs": [
    {
     "data": {
      "text/plain": [
       "False"
      ]
     },
     "execution_count": 53,
     "metadata": {},
     "output_type": "execute_result"
    }
   ],
   "source": [
    "str10='mohit#@79?\\n'\n",
    "str10.isprintable()"
   ]
  },
  {
   "cell_type": "markdown",
   "id": "b6ef0948-85ab-45f7-8238-cb9c7931507a",
   "metadata": {},
   "source": [
    "# isspace()"
   ]
  },
  {
   "cell_type": "code",
   "execution_count": 55,
   "id": "9d949f75-e502-4378-947a-ba28f98072cd",
   "metadata": {},
   "outputs": [
    {
     "name": "stdout",
     "output_type": "stream",
     "text": [
      "Help on built-in function isspace:\n",
      "\n",
      "isspace() method of builtins.str instance\n",
      "    Return True if the string is a whitespace string, False otherwise.\n",
      "    \n",
      "    A string is whitespace if all characters in the string are whitespace and there\n",
      "    is at least one character in the string.\n",
      "\n"
     ]
    }
   ],
   "source": [
    "help(''.isspace)"
   ]
  },
  {
   "cell_type": "code",
   "execution_count": 56,
   "id": "afa20c57-1a7d-4ce1-bf91-aee73856e616",
   "metadata": {},
   "outputs": [
    {
     "data": {
      "text/plain": [
       "False"
      ]
     },
     "execution_count": 56,
     "metadata": {},
     "output_type": "execute_result"
    }
   ],
   "source": [
    "str11='mohit bele'\n",
    "str11.isspace()"
   ]
  },
  {
   "cell_type": "code",
   "execution_count": 58,
   "id": "0e860307-426b-4f55-a25f-182a700d9163",
   "metadata": {},
   "outputs": [
    {
     "data": {
      "text/plain": [
       "False"
      ]
     },
     "execution_count": 58,
     "metadata": {},
     "output_type": "execute_result"
    }
   ],
   "source": [
    "str11='mohitbele'\n",
    "str11.isspace()"
   ]
  },
  {
   "cell_type": "code",
   "execution_count": 59,
   "id": "1ba19235-6ce5-419f-8165-f6cd4c7afdcb",
   "metadata": {},
   "outputs": [
    {
     "data": {
      "text/plain": [
       "True"
      ]
     },
     "execution_count": 59,
     "metadata": {},
     "output_type": "execute_result"
    }
   ],
   "source": [
    "str11='    '\n",
    "str11.isspace()"
   ]
  },
  {
   "cell_type": "markdown",
   "id": "46adf572-ef01-41f0-9e5a-f34d6f42d579",
   "metadata": {},
   "source": [
    "# istitle()"
   ]
  },
  {
   "cell_type": "code",
   "execution_count": 62,
   "id": "db0ebbeb-9be5-4080-91cb-bbe14c022497",
   "metadata": {},
   "outputs": [
    {
     "data": {
      "text/plain": [
       "False"
      ]
     },
     "execution_count": 62,
     "metadata": {},
     "output_type": "execute_result"
    }
   ],
   "source": [
    "str12='The is best'\n",
    "str12.istitle()"
   ]
  },
  {
   "cell_type": "code",
   "execution_count": 63,
   "id": "2a757bfa-6440-42c5-9142-a5910a48795b",
   "metadata": {},
   "outputs": [
    {
     "data": {
      "text/plain": [
       "True"
      ]
     },
     "execution_count": 63,
     "metadata": {},
     "output_type": "execute_result"
    }
   ],
   "source": [
    "str12='The Is Best'\n",
    "str12.istitle()"
   ]
  },
  {
   "cell_type": "markdown",
   "id": "e713b9d5-16dc-4f1f-a716-00e6e3e995b8",
   "metadata": {},
   "source": [
    "# isupper()"
   ]
  },
  {
   "cell_type": "code",
   "execution_count": 64,
   "id": "ba4911a1-fd66-4354-b873-96584a8e6e16",
   "metadata": {},
   "outputs": [
    {
     "data": {
      "text/plain": [
       "True"
      ]
     },
     "execution_count": 64,
     "metadata": {},
     "output_type": "execute_result"
    }
   ],
   "source": [
    "str13='MOHIT'\n",
    "str13.isupper()"
   ]
  },
  {
   "cell_type": "code",
   "execution_count": 65,
   "id": "3e1f152d-5e06-44e8-b629-65e857d71b04",
   "metadata": {},
   "outputs": [
    {
     "data": {
      "text/plain": [
       "False"
      ]
     },
     "execution_count": 65,
     "metadata": {},
     "output_type": "execute_result"
    }
   ],
   "source": [
    "str13='MOITh'\n",
    "str13.isupper()"
   ]
  },
  {
   "cell_type": "code",
   "execution_count": null,
   "id": "1d1cdb0a-05d5-4192-9091-24c04836c164",
   "metadata": {},
   "outputs": [],
   "source": []
  }
 ],
 "metadata": {
  "kernelspec": {
   "display_name": "Python 3 (ipykernel)",
   "language": "python",
   "name": "python3"
  },
  "language_info": {
   "codemirror_mode": {
    "name": "ipython",
    "version": 3
   },
   "file_extension": ".py",
   "mimetype": "text/x-python",
   "name": "python",
   "nbconvert_exporter": "python",
   "pygments_lexer": "ipython3",
   "version": "3.11.7"
  }
 },
 "nbformat": 4,
 "nbformat_minor": 5
}
