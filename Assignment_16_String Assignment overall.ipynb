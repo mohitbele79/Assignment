{
 "cells": [
  {
   "cell_type": "code",
   "execution_count": null,
   "id": "8efffb81-500c-45b0-b8e1-7eba8c26db08",
   "metadata": {},
   "outputs": [],
   "source": [
    "1. Write a program that asks the user to enter a string. The program should then print the following:\n",
    "(a) The total number of characters in the string\n",
    "(b) The string repeated 10 times\n",
    "(c) The first character of the string (remember that string indices start at 0) \n",
    "(d) The first three characters of the string\n",
    "(e) The last three characters of the string\n",
    "(f) The string backwards\n",
    "(g) The seventh character of the string if the string is long enough and a message otherwise\n",
    "(h) The string with its first and last characters removed\n",
    "(i) The string in all caps\n",
    "(j) The string with every a replaced with an e"
   ]
  },
  {
   "cell_type": "code",
   "execution_count": 27,
   "id": "cd0f69f4-149c-4023-a1e2-124eee37b155",
   "metadata": {},
   "outputs": [
    {
     "name": "stdin",
     "output_type": "stream",
     "text": [
      "Enter the String :  mohit\n"
     ]
    },
    {
     "name": "stdout",
     "output_type": "stream",
     "text": [
      " total number of charachters is in string 5\n",
      "mohitmohitmohitmohitmohitmohitmohitmohitmohitmohit\n",
      "m\n",
      "moh\n",
      "tih\n",
      "t\n",
      "i\n",
      "h\n",
      "o\n",
      "m\n",
      "message\n",
      "['m', 'o', 'h', 'i', 't']\n",
      "['o', 'h', 'i']\n",
      "Mohit\n",
      "['e', 'e', 'e', 'e', 'e']\n"
     ]
    }
   ],
   "source": [
    "str=input('Enter the String : ')\n",
    "print(f' total number of charachters is in string {len(str)}')\n",
    "print(str*10)\n",
    "print(str[0])\n",
    "print(str[0:3])\n",
    "print(str[-1:-4:-1])\n",
    "for i in reversed(str):\n",
    "    print(i)\n",
    "\n",
    "if len(str)>7:\n",
    "    print('String is long Enough')\n",
    "else:\n",
    "    print('message')\n",
    "\n",
    "a=[]\n",
    "a.extend(str)\n",
    "print(a)\n",
    "del(a[0])\n",
    "del(a[-1])\n",
    "for i in a:\n",
    "    ''.join(i)\n",
    "print(a)\n",
    "\n",
    "p=str.capitalize()\n",
    "print(p)\n",
    "e=[]\n",
    "e.extend(str)\n",
    "for i in range(len(str)):\n",
    "    e[i]='e'\n",
    "print(e)\n",
    "    "
   ]
  },
  {
   "cell_type": "code",
   "execution_count": null,
   "id": "267fde63-21dd-438c-9b9e-02cc62bd58bb",
   "metadata": {},
   "outputs": [],
   "source": [
    "2. A simple way to estimate the number of words in a string is to count the number of spaces in the\n",
    "string. Write a program that asks the user for a string and returns an estimate of how many words\n",
    "are in the string.\n",
    "Tip: You need to count the number of words using spaces"
   ]
  },
  {
   "cell_type": "code",
   "execution_count": 5,
   "id": "68abd08e-4b30-4196-bde2-0505e5d462d8",
   "metadata": {},
   "outputs": [
    {
     "name": "stdout",
     "output_type": "stream",
     "text": [
      "number word is 44\n"
     ]
    }
   ],
   "source": [
    "str='A simple way to estimate the number of words in a string is to count the number of spaces in the string. Write a program that asks the user for a string and returns an estimate of how many words are in the string.'\n",
    "count=0\n",
    "for i in range(len(str)):\n",
    "    if  str[i]== ' ':\n",
    "        count+=1\n",
    "\n",
    "print(f'number word is {count+1}')"
   ]
  },
  {
   "cell_type": "code",
   "execution_count": 7,
   "id": "10e023f8-c551-4d85-a6a3-7135141815b5",
   "metadata": {},
   "outputs": [
    {
     "name": "stdin",
     "output_type": "stream",
     "text": [
      "Enter the string :  3.Write a program that asks the user to enter a word and prints out whether that word contains any vowels.\n"
     ]
    },
    {
     "name": "stdout",
     "output_type": "stream",
     "text": [
      "Yes string contains vowels.\n",
      "there are 72 of vowels present in string. \n"
     ]
    }
   ],
   "source": [
    "#3.Write a program that asks the user to enter a word and prints out whether that word contains any\n",
    "#vowels.\n",
    "\n",
    "b=input('Enter the string : ')\n",
    "for i in b:\n",
    "    if i in 'aeiou':\n",
    "        count+=1\n",
    "if count >0:\n",
    "    print('Yes string contains vowels.')\n",
    "    print(f'there are {count} of vowels present in string. ')"
   ]
  },
  {
   "cell_type": "code",
   "execution_count": 3,
   "id": "6810a064-3731-4ea2-a3ba-ec9097bdb59f",
   "metadata": {},
   "outputs": [
    {
     "name": "stdin",
     "output_type": "stream",
     "text": [
      "Enter the string :  mohit\n"
     ]
    },
    {
     "name": "stdout",
     "output_type": "stream",
     "text": [
      "oi\n"
     ]
    }
   ],
   "source": [
    "# 4\n",
    "\n",
    "a=''\n",
    "b=input('Enter the string : ')\n",
    "for i in b:\n",
    "    if i in 'aeiou':\n",
    "        if i not in a:\n",
    "            a+=i\n",
    "\n",
    "print(a)"
   ]
  },
  {
   "cell_type": "code",
   "execution_count": 5,
   "id": "e3cae6e7-ceec-4a02-8710-4da15b404c80",
   "metadata": {},
   "outputs": [
    {
     "name": "stdin",
     "output_type": "stream",
     "text": [
      "Enter the String :  mohit\n"
     ]
    },
    {
     "name": "stdout",
     "output_type": "stream",
     "text": [
      "m*hit!!!\n"
     ]
    }
   ],
   "source": [
    "#5\n",
    "str=input('Enter the String : ')\n",
    "c=str[0]\n",
    "d='*'\n",
    "e=str[2:]\n",
    "f='!!!'\n",
    "print(c+d+e+f)"
   ]
  },
  {
   "cell_type": "code",
   "execution_count": 19,
   "id": "5e8ef528-9468-4379-b82f-46427c20ab72",
   "metadata": {},
   "outputs": [
    {
     "name": "stdin",
     "output_type": "stream",
     "text": [
      "Enter the string :  noon\n"
     ]
    },
    {
     "name": "stdout",
     "output_type": "stream",
     "text": [
      "String is palindrome\n"
     ]
    }
   ],
   "source": [
    "#6\n",
    "str=input('Enter the string : ')\n",
    "count=0\n",
    "for i in range(len(str)):\n",
    "    if str[i]==str[len(str)-1-i]:\n",
    "        count+=1\n",
    "        \n",
    "if count==len(str):\n",
    "    print('String is palindrome')\n",
    "else: \n",
    "    print('String is not Palindrome')"
   ]
  },
  {
   "cell_type": "code",
   "execution_count": 21,
   "id": "87f17076-0dc2-43b1-9f57-ae03221580b6",
   "metadata": {},
   "outputs": [
    {
     "name": "stdin",
     "output_type": "stream",
     "text": [
      "Enter how Many email you have to Enter: 5\n",
      "Enter the Email :  @student.mohit.edu\n"
     ]
    },
    {
     "name": "stdout",
     "output_type": "stream",
     "text": [
      "It is Student Email.\n"
     ]
    },
    {
     "name": "stdin",
     "output_type": "stream",
     "text": [
      "Enter the Email :  @prof.mohit.edu\n"
     ]
    },
    {
     "name": "stdout",
     "output_type": "stream",
     "text": [
      "It is professor Email.\n"
     ]
    },
    {
     "name": "stdin",
     "output_type": "stream",
     "text": [
      "Enter the Email :  @prin.mohit.edu\n"
     ]
    },
    {
     "name": "stdout",
     "output_type": "stream",
     "text": [
      "Invalid Email.\n"
     ]
    },
    {
     "name": "stdin",
     "output_type": "stream",
     "text": [
      "Enter the Email :  @prof.mohit.edu\n"
     ]
    },
    {
     "name": "stdout",
     "output_type": "stream",
     "text": [
      "It is professor Email.\n"
     ]
    },
    {
     "name": "stdin",
     "output_type": "stream",
     "text": [
      "Enter the Email :  @student.mohit.edu\n"
     ]
    },
    {
     "name": "stdout",
     "output_type": "stream",
     "text": [
      "It is Student Email.\n"
     ]
    }
   ],
   "source": [
    "#7\n",
    "num=eval(input('Enter how Many email you have to Enter:'))\n",
    "for i in range(num):\n",
    "    str=input('Enter the Email : ')\n",
    "    if 'student' in str:\n",
    "        print('It is Student Email.')\n",
    "    elif 'prof' in str:\n",
    "        print('It is professor Email.')\n",
    "    else:\n",
    "        print('Invalid Email.')"
   ]
  },
  {
   "cell_type": "code",
   "execution_count": 23,
   "id": "7396a15c-edd3-4d15-a597-2c0e865d677d",
   "metadata": {},
   "outputs": [
    {
     "name": "stdin",
     "output_type": "stream",
     "text": [
      "Enter the string: mohit\n"
     ]
    },
    {
     "name": "stdout",
     "output_type": "stream",
     "text": [
      "mm\n",
      "oo\n",
      "hh\n",
      "ii\n",
      "tt\n"
     ]
    }
   ],
   "source": [
    "# 8\n",
    "str=input('Enter the string:')\n",
    "for i in str:\n",
    "    print(i*2)"
   ]
  },
  {
   "cell_type": "code",
   "execution_count": 25,
   "id": "05aff7fb-cde8-4d32-86e3-ec0d2303a8dd",
   "metadata": {},
   "outputs": [
    {
     "name": "stdin",
     "output_type": "stream",
     "text": [
      "Enter the string :  mohiat\n"
     ]
    },
    {
     "name": "stdout",
     "output_type": "stream",
     "text": [
      "mohia\n",
      "t\n"
     ]
    }
   ],
   "source": [
    "# 9\n",
    "str=input('Enter the string : ')\n",
    "if 'a' in str:\n",
    "    c=str.index('a')\n",
    "    print(str[0:c+1])\n",
    "    print(str[c+1:])\n",
    "    \n"
   ]
  },
  {
   "cell_type": "code",
   "execution_count": 39,
   "id": "f6840c2d-624b-440f-95f4-2e289c6ce95a",
   "metadata": {},
   "outputs": [
    {
     "name": "stdin",
     "output_type": "stream",
     "text": [
      "Enter the String :  mohit\n"
     ]
    },
    {
     "data": {
      "text/plain": [
       "['m', 'o', 'h', 'i', 't']"
      ]
     },
     "execution_count": 39,
     "metadata": {},
     "output_type": "execute_result"
    }
   ],
   "source": [
    "# 10\n",
    "strr=input('Enter the String : ')\n",
    "l=[]\n",
    "l.extend(strr)\n",
    "for i in range(len(l)):\n",
    "    if i%2 == 0:\n",
    "        l[i].capitalize()\n",
    "    \n",
    "l     "
   ]
  },
  {
   "cell_type": "code",
   "execution_count": null,
   "id": "4fcd067c-8eb3-4ac3-94ae-6f97ea44b67e",
   "metadata": {},
   "outputs": [],
   "source": [
    "# 11\n"
   ]
  }
 ],
 "metadata": {
  "kernelspec": {
   "display_name": "Python 3 (ipykernel)",
   "language": "python",
   "name": "python3"
  },
  "language_info": {
   "codemirror_mode": {
    "name": "ipython",
    "version": 3
   },
   "file_extension": ".py",
   "mimetype": "text/x-python",
   "name": "python",
   "nbconvert_exporter": "python",
   "pygments_lexer": "ipython3",
   "version": "3.11.7"
  }
 },
 "nbformat": 4,
 "nbformat_minor": 5
}
